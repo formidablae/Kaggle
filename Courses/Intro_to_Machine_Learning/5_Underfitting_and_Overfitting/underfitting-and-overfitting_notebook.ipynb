{
 "cells": [
  {
   "cell_type": "markdown",
   "id": "7e562b6b",
   "metadata": {
    "papermill": {
     "duration": 0.007255,
     "end_time": "2021-11-09T00:01:48.945015",
     "exception": false,
     "start_time": "2021-11-09T00:01:48.937760",
     "status": "completed"
    },
    "tags": []
   },
   "source": [
    "At the end of this step, you will understand the concepts of underfitting and overfitting, and you will be able to apply these ideas to make your models more accurate.\n",
    "\n",
    "# Experimenting With Different Models\n",
    "\n",
    "Now that you have a reliable way to measure model accuracy, you can experiment with alternative models and see which gives the best predictions.  But what alternatives do you have for models?\n",
    "\n",
    "You can see in scikit-learn's [documentation](http://scikit-learn.org/stable/modules/generated/sklearn.tree.DecisionTreeRegressor.html) that the decision tree model has many options (more than you'll want or need for a long time). The most important options determine the tree's depth.  Recall from [the first lesson in this course](https://www.kaggle.com/dansbecker/how-models-work) that a tree's depth is a measure of how many splits it makes before coming to a prediction.  This is a relatively shallow tree\n",
    "\n",
    "![Depth 2 Tree](http://i.imgur.com/R3ywQsR.png)\n",
    "\n",
    "In practice, it's not uncommon for a tree to have 10 splits between the top level (all houses) and a leaf.  As the tree gets deeper, the dataset gets sliced up into leaves with fewer houses.  If a tree only had 1 split, it divides the data into 2 groups. If each group is split again, we would get 4 groups of houses.  Splitting each of those again would create 8 groups.  If we keep doubling the number of groups by adding more splits at each level, we'll have \\\\(2^{10}\\\\) groups of houses by the time we get to the 10th level. That's 1024 leaves.  \n",
    "\n",
    "When we divide the houses amongst many leaves, we also have fewer houses in each leaf.  Leaves with very few houses will make predictions that are quite close to those homes' actual values, but they may make very unreliable predictions for new data (because each prediction is based on only a few houses).\n",
    "\n",
    "This is a phenomenon called **overfitting**, where a model matches the training data almost perfectly, but does poorly in validation and other new data.  On the flip side, if we make our tree very shallow, it doesn't divide up the houses into very distinct groups.  \n",
    "\n",
    "At an extreme, if a tree divides houses into only 2 or 4, each group still has a wide variety of houses. Resulting predictions may be far off for most houses, even in the training data (and it will be bad in validation too for the same reason). When a model fails to capture important distinctions and patterns in the data, so it performs poorly even in training data, that is called **underfitting**.  \n",
    "\n",
    "Since we care about accuracy on new data, which we estimate from our validation data, we want to find the sweet spot between underfitting and overfitting.  Visually, we want the low point of the (red) validation curve in the figure below.\n",
    "\n",
    "![underfitting_overfitting](http://i.imgur.com/AXSEOfI.png)\n",
    "\n",
    "# Example\n",
    "There are a few alternatives for controlling the tree depth, and many allow for some routes through the tree to have greater depth than other routes.  But the *max_leaf_nodes* argument provides a very sensible way to control overfitting vs underfitting.  The more leaves we allow the model to make, the more we move from the underfitting area in the above graph to the overfitting area.\n",
    "\n",
    "We can use a utility function to help compare MAE scores from different values for *max_leaf_nodes*:\n"
   ]
  },
  {
   "cell_type": "code",
   "execution_count": 1,
   "id": "34810c80",
   "metadata": {
    "collapsed": true,
    "execution": {
     "iopub.execute_input": "2021-11-09T00:01:48.969349Z",
     "iopub.status.busy": "2021-11-09T00:01:48.965099Z",
     "iopub.status.idle": "2021-11-09T00:01:50.251307Z",
     "shell.execute_reply": "2021-11-09T00:01:50.250549Z"
    },
    "papermill": {
     "duration": 1.300336,
     "end_time": "2021-11-09T00:01:50.251504",
     "exception": false,
     "start_time": "2021-11-09T00:01:48.951168",
     "status": "completed"
    },
    "tags": []
   },
   "outputs": [],
   "source": [
    "from sklearn.metrics import mean_absolute_error\n",
    "from sklearn.tree import DecisionTreeRegressor\n",
    "\n",
    "def get_mae(max_leaf_nodes, train_X, val_X, train_y, val_y):\n",
    "    model = DecisionTreeRegressor(max_leaf_nodes=max_leaf_nodes, random_state=0)\n",
    "    model.fit(train_X, train_y)\n",
    "    preds_val = model.predict(val_X)\n",
    "    mae = mean_absolute_error(val_y, preds_val)\n",
    "    return(mae)"
   ]
  },
  {
   "cell_type": "markdown",
   "id": "61f173cf",
   "metadata": {
    "papermill": {
     "duration": 0.006012,
     "end_time": "2021-11-09T00:01:50.264188",
     "exception": false,
     "start_time": "2021-11-09T00:01:50.258176",
     "status": "completed"
    },
    "tags": []
   },
   "source": [
    "The data is loaded into **train_X**, **val_X**, **train_y** and **val_y** using the code you've already seen (and which you've already written)."
   ]
  },
  {
   "cell_type": "code",
   "execution_count": 2,
   "id": "54faafc8",
   "metadata": {
    "_kg_hide-input": true,
    "_kg_hide-output": true,
    "collapsed": true,
    "execution": {
     "iopub.execute_input": "2021-11-09T00:01:50.280326Z",
     "iopub.status.busy": "2021-11-09T00:01:50.279611Z",
     "iopub.status.idle": "2021-11-09T00:01:50.412378Z",
     "shell.execute_reply": "2021-11-09T00:01:50.411756Z"
    },
    "papermill": {
     "duration": 0.142013,
     "end_time": "2021-11-09T00:01:50.412538",
     "exception": false,
     "start_time": "2021-11-09T00:01:50.270525",
     "status": "completed"
    },
    "tags": []
   },
   "outputs": [],
   "source": [
    "# Data Loading Code Runs At This Point\n",
    "import pandas as pd\n",
    "    \n",
    "# Load data\n",
    "melbourne_file_path = '../input/melbourne-housing-snapshot/melb_data.csv'\n",
    "melbourne_data = pd.read_csv(melbourne_file_path) \n",
    "# Filter rows with missing values\n",
    "filtered_melbourne_data = melbourne_data.dropna(axis=0)\n",
    "# Choose target and features\n",
    "y = filtered_melbourne_data.Price\n",
    "melbourne_features = ['Rooms', 'Bathroom', 'Landsize', 'BuildingArea', \n",
    "                        'YearBuilt', 'Lattitude', 'Longtitude']\n",
    "X = filtered_melbourne_data[melbourne_features]\n",
    "\n",
    "from sklearn.model_selection import train_test_split\n",
    "\n",
    "# split data into training and validation data, for both features and target\n",
    "train_X, val_X, train_y, val_y = train_test_split(X, y,random_state = 0)"
   ]
  },
  {
   "cell_type": "markdown",
   "id": "08de04c1",
   "metadata": {
    "papermill": {
     "duration": 0.008353,
     "end_time": "2021-11-09T00:01:50.427350",
     "exception": false,
     "start_time": "2021-11-09T00:01:50.418997",
     "status": "completed"
    },
    "tags": []
   },
   "source": [
    "We can use a for-loop to compare the accuracy of models built with different values for *max_leaf_nodes.*"
   ]
  },
  {
   "cell_type": "code",
   "execution_count": 3,
   "id": "b8cef8ad",
   "metadata": {
    "collapsed": true,
    "execution": {
     "iopub.execute_input": "2021-11-09T00:01:50.448695Z",
     "iopub.status.busy": "2021-11-09T00:01:50.447607Z",
     "iopub.status.idle": "2021-11-09T00:01:50.544210Z",
     "shell.execute_reply": "2021-11-09T00:01:50.543522Z"
    },
    "papermill": {
     "duration": 0.110697,
     "end_time": "2021-11-09T00:01:50.544357",
     "exception": false,
     "start_time": "2021-11-09T00:01:50.433660",
     "status": "completed"
    },
    "tags": []
   },
   "outputs": [
    {
     "name": "stdout",
     "output_type": "stream",
     "text": [
      "Max leaf nodes: 5  \t\t Mean Absolute Error:  347380\n",
      "Max leaf nodes: 50  \t\t Mean Absolute Error:  258171\n",
      "Max leaf nodes: 500  \t\t Mean Absolute Error:  243495\n",
      "Max leaf nodes: 5000  \t\t Mean Absolute Error:  254983\n"
     ]
    }
   ],
   "source": [
    "# compare MAE with differing values of max_leaf_nodes\n",
    "for max_leaf_nodes in [5, 50, 500, 5000]:\n",
    "    my_mae = get_mae(max_leaf_nodes, train_X, val_X, train_y, val_y)\n",
    "    print(\"Max leaf nodes: %d  \\t\\t Mean Absolute Error:  %d\" %(max_leaf_nodes, my_mae))"
   ]
  },
  {
   "cell_type": "markdown",
   "id": "36e34286",
   "metadata": {
    "papermill": {
     "duration": 0.006759,
     "end_time": "2021-11-09T00:01:50.558181",
     "exception": false,
     "start_time": "2021-11-09T00:01:50.551422",
     "status": "completed"
    },
    "tags": []
   },
   "source": [
    "\n",
    "Of the options listed, 500 is the optimal number of leaves.\n",
    "\n",
    "---\n",
    "\n",
    "# Conclusion\n",
    "\n",
    "Here's the takeaway: Models can suffer from either:\n",
    "- **Overfitting:** capturing spurious patterns that won't recur in the future, leading to less accurate predictions, or \n",
    "- **Underfitting:** failing to capture relevant patterns, again leading to less accurate predictions. \n",
    "\n",
    "We use **validation** data, which isn't used in model training, to measure a candidate model's accuracy. This lets us try many candidate models and keep the best one. \n",
    "\n",
    "\n",
    "\n",
    "# Your Turn\n",
    "\n",
    "Try **[optimizing the model you've previously built](https://www.kaggle.com/kernels/fork/1259126)**."
   ]
  },
  {
   "cell_type": "markdown",
   "id": "c75130c0",
   "metadata": {
    "papermill": {
     "duration": 0.007041,
     "end_time": "2021-11-09T00:01:50.572268",
     "exception": false,
     "start_time": "2021-11-09T00:01:50.565227",
     "status": "completed"
    },
    "tags": []
   },
   "source": [
    "---\n",
    "\n",
    "\n",
    "\n",
    "\n",
    "*Have questions or comments? Visit the [course discussion forum](https://www.kaggle.com/learn/intro-to-machine-learning/discussion) to chat with other learners.*"
   ]
  }
 ],
 "metadata": {
  "kernelspec": {
   "display_name": "Python 3",
   "language": "python",
   "name": "python3"
  },
  "language_info": {
   "codemirror_mode": {
    "name": "ipython",
    "version": 3
   },
   "file_extension": ".py",
   "mimetype": "text/x-python",
   "name": "python",
   "nbconvert_exporter": "python",
   "pygments_lexer": "ipython3",
   "version": "3.7.10"
  },
  "papermill": {
   "default_parameters": {},
   "duration": 12.169697,
   "end_time": "2021-11-09T00:01:51.292001",
   "environment_variables": {},
   "exception": null,
   "input_path": "__notebook__.ipynb",
   "output_path": "__notebook__.ipynb",
   "parameters": {},
   "start_time": "2021-11-09T00:01:39.122304",
   "version": "2.3.3"
  }
 },
 "nbformat": 4,
 "nbformat_minor": 5
}
