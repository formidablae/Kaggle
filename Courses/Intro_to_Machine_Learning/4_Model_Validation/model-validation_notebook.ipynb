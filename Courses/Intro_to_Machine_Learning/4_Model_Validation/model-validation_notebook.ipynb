{
 "cells": [
  {
   "cell_type": "markdown",
   "id": "6cc0aeb2",
   "metadata": {
    "papermill": {
     "duration": 0.006035,
     "end_time": "2021-11-09T00:01:04.455476",
     "exception": false,
     "start_time": "2021-11-09T00:01:04.449441",
     "status": "completed"
    },
    "tags": []
   },
   "source": [
    "You've built a model. But how good is it?\n",
    "\n",
    "In this lesson, you will learn to use model validation to measure the quality of your model. Measuring model quality is the key to iteratively improving your models.\n",
    "\n",
    "# What is Model Validation\n",
    "\n",
    "You'll want to evaluate almost every model you ever build. In most (though not all) applications, the relevant measure of model quality is predictive accuracy. In other words, will the model's predictions be close to what actually happens.\n",
    "\n",
    "Many people make a huge mistake when measuring predictive accuracy. They make predictions with their *training data* and compare those predictions to the target values in the *training data*. You'll see the problem with this approach and how to solve it in a moment, but let's think about how we'd do this first.\n",
    "\n",
    "You'd first need to summarize the model quality into an understandable way. If you compare predicted and actual home values for 10,000 houses, you'll likely find mix of good and bad predictions. Looking through a list of 10,000 predicted and actual values would be pointless. We need to summarize this into a single metric.\n",
    "\n",
    "There are many metrics for summarizing model quality, but we'll start with one called **Mean Absolute Error** (also called **MAE**). Let's break down this metric starting with the last word, error.\n",
    "\n",
    "The prediction error for each house is: <br>\n",
    "```\n",
    "error=actual−predicted\n",
    "```\n",
    " \n",
    "So, if a house cost \\$150,000 and you predicted it would cost \\$100,000 the error is \\$50,000.\n",
    "\n",
    "With the MAE metric, we take the absolute value of each error. This converts each error to a positive number. We then take the average of those absolute errors. This is our measure of model quality. In plain English, it can be said as\n",
    "\n",
    "> On average, our predictions are off by about X.\n",
    "\n",
    "To calculate MAE, we first need a model. That is built in a hidden cell below, which you can review by clicking the `code` button."
   ]
  },
  {
   "cell_type": "code",
   "execution_count": 1,
   "id": "ec849e57",
   "metadata": {
    "_kg_hide-input": true,
    "_kg_hide-output": true,
    "collapsed": true,
    "execution": {
     "iopub.execute_input": "2021-11-09T00:01:04.476105Z",
     "iopub.status.busy": "2021-11-09T00:01:04.475215Z",
     "iopub.status.idle": "2021-11-09T00:01:05.685926Z",
     "shell.execute_reply": "2021-11-09T00:01:05.686509Z"
    },
    "papermill": {
     "duration": 1.225966,
     "end_time": "2021-11-09T00:01:05.686819",
     "exception": false,
     "start_time": "2021-11-09T00:01:04.460853",
     "status": "completed"
    },
    "tags": []
   },
   "outputs": [
    {
     "data": {
      "text/plain": [
       "DecisionTreeRegressor()"
      ]
     },
     "execution_count": 1,
     "metadata": {},
     "output_type": "execute_result"
    }
   ],
   "source": [
    "# Data Loading Code Hidden Here\n",
    "import pandas as pd\n",
    "\n",
    "# Load data\n",
    "melbourne_file_path = '../input/melbourne-housing-snapshot/melb_data.csv'\n",
    "melbourne_data = pd.read_csv(melbourne_file_path) \n",
    "# Filter rows with missing price values\n",
    "filtered_melbourne_data = melbourne_data.dropna(axis=0)\n",
    "# Choose target and features\n",
    "y = filtered_melbourne_data.Price\n",
    "melbourne_features = ['Rooms', 'Bathroom', 'Landsize', 'BuildingArea', \n",
    "                        'YearBuilt', 'Lattitude', 'Longtitude']\n",
    "X = filtered_melbourne_data[melbourne_features]\n",
    "\n",
    "from sklearn.tree import DecisionTreeRegressor\n",
    "# Define model\n",
    "melbourne_model = DecisionTreeRegressor()\n",
    "# Fit model\n",
    "melbourne_model.fit(X, y)"
   ]
  },
  {
   "cell_type": "markdown",
   "id": "49cdb9d5",
   "metadata": {
    "papermill": {
     "duration": 0.005498,
     "end_time": "2021-11-09T00:01:05.698436",
     "exception": false,
     "start_time": "2021-11-09T00:01:05.692938",
     "status": "completed"
    },
    "tags": []
   },
   "source": [
    "Once we have a model, here is how we calculate the mean absolute error:"
   ]
  },
  {
   "cell_type": "code",
   "execution_count": 2,
   "id": "0d03b4e9",
   "metadata": {
    "collapsed": true,
    "execution": {
     "iopub.execute_input": "2021-11-09T00:01:05.718869Z",
     "iopub.status.busy": "2021-11-09T00:01:05.718224Z",
     "iopub.status.idle": "2021-11-09T00:01:05.728131Z",
     "shell.execute_reply": "2021-11-09T00:01:05.728926Z"
    },
    "papermill": {
     "duration": 0.024895,
     "end_time": "2021-11-09T00:01:05.729163",
     "exception": false,
     "start_time": "2021-11-09T00:01:05.704268",
     "status": "completed"
    },
    "tags": []
   },
   "outputs": [
    {
     "data": {
      "text/plain": [
       "434.71594577146544"
      ]
     },
     "execution_count": 2,
     "metadata": {},
     "output_type": "execute_result"
    }
   ],
   "source": [
    "from sklearn.metrics import mean_absolute_error\n",
    "\n",
    "predicted_home_prices = melbourne_model.predict(X)\n",
    "mean_absolute_error(y, predicted_home_prices)"
   ]
  },
  {
   "cell_type": "markdown",
   "id": "9b2d0c6c",
   "metadata": {
    "papermill": {
     "duration": 0.005524,
     "end_time": "2021-11-09T00:01:05.740576",
     "exception": false,
     "start_time": "2021-11-09T00:01:05.735052",
     "status": "completed"
    },
    "tags": []
   },
   "source": [
    "# The Problem with \"In-Sample\" Scores\n",
    "\n",
    "The measure we just computed can be called an \"in-sample\" score. We used a single \"sample\" of houses for both building the model and evaluating it. Here's why this is bad.\n",
    "\n",
    "Imagine that, in the large real estate market, door color is unrelated to home price. \n",
    "\n",
    "However, in the sample of data you used to build the model, all homes with green doors were very expensive. The model's job is to find patterns that predict home prices, so it will see this pattern, and it will always predict high prices for homes with green doors.\n",
    "\n",
    "Since this pattern was derived from the training data, the model will appear accurate in the training data.\n",
    "\n",
    "But if this pattern doesn't hold when the model sees new data, the model would be very inaccurate when used in practice.\n",
    "\n",
    "Since models' practical value come from making predictions on new data, we measure performance on data that wasn't used to build the model. The most straightforward way to do this is to exclude some data from the model-building process, and then use those to test the model's accuracy on data it hasn't seen before. This data is called **validation data**.\n",
    "\n",
    "\n",
    "# Coding It\n",
    "\n",
    "\n",
    "The scikit-learn library has a function `train_test_split` to break up the data into two pieces. We'll use some of that data as training data to fit the model, and we'll use the other data as validation data to calculate `mean_absolute_error`.\n",
    "\n",
    "Here is the code:"
   ]
  },
  {
   "cell_type": "code",
   "execution_count": 3,
   "id": "a7b29b0a",
   "metadata": {
    "collapsed": true,
    "execution": {
     "iopub.execute_input": "2021-11-09T00:01:05.755684Z",
     "iopub.status.busy": "2021-11-09T00:01:05.755080Z",
     "iopub.status.idle": "2021-11-09T00:01:05.800527Z",
     "shell.execute_reply": "2021-11-09T00:01:05.799855Z"
    },
    "papermill": {
     "duration": 0.054019,
     "end_time": "2021-11-09T00:01:05.800669",
     "exception": false,
     "start_time": "2021-11-09T00:01:05.746650",
     "status": "completed"
    },
    "tags": []
   },
   "outputs": [
    {
     "name": "stdout",
     "output_type": "stream",
     "text": [
      "258930.03550677857\n"
     ]
    }
   ],
   "source": [
    "from sklearn.model_selection import train_test_split\n",
    "\n",
    "# split data into training and validation data, for both features and target\n",
    "# The split is based on a random number generator. Supplying a numeric value to\n",
    "# the random_state argument guarantees we get the same split every time we\n",
    "# run this script.\n",
    "train_X, val_X, train_y, val_y = train_test_split(X, y, random_state = 0)\n",
    "# Define model\n",
    "melbourne_model = DecisionTreeRegressor()\n",
    "# Fit model\n",
    "melbourne_model.fit(train_X, train_y)\n",
    "\n",
    "# get predicted prices on validation data\n",
    "val_predictions = melbourne_model.predict(val_X)\n",
    "print(mean_absolute_error(val_y, val_predictions))"
   ]
  },
  {
   "cell_type": "markdown",
   "id": "eb371147",
   "metadata": {
    "papermill": {
     "duration": 0.005963,
     "end_time": "2021-11-09T00:01:05.813041",
     "exception": false,
     "start_time": "2021-11-09T00:01:05.807078",
     "status": "completed"
    },
    "tags": []
   },
   "source": [
    "# Wow!\n",
    "\n",
    "Your mean absolute error for the in-sample data was about 500 dollars.  Out-of-sample it is more than 250,000 dollars.\n",
    "\n",
    "This is the difference between a model that is almost exactly right, and one that is unusable for most practical purposes.  As a point of reference, the average home value in the validation data is 1.1 million dollars.  So the error in new data is about a quarter of the average home value. \n",
    "\n",
    "There are many ways to improve this model, such as experimenting to find better features or different model types. "
   ]
  },
  {
   "cell_type": "markdown",
   "id": "c9d97772",
   "metadata": {
    "papermill": {
     "duration": 0.00595,
     "end_time": "2021-11-09T00:01:05.825240",
     "exception": false,
     "start_time": "2021-11-09T00:01:05.819290",
     "status": "completed"
    },
    "tags": []
   },
   "source": [
    "# Your Turn\n",
    "Before we look at improving this model, try **[Model Validation](https://www.kaggle.com/kernels/fork/1259097)** for yourself."
   ]
  },
  {
   "cell_type": "markdown",
   "id": "1577b0d7",
   "metadata": {
    "papermill": {
     "duration": 0.005963,
     "end_time": "2021-11-09T00:01:05.837467",
     "exception": false,
     "start_time": "2021-11-09T00:01:05.831504",
     "status": "completed"
    },
    "tags": []
   },
   "source": [
    "---\n",
    "\n",
    "\n",
    "\n",
    "\n",
    "*Have questions or comments? Visit the [course discussion forum](https://www.kaggle.com/learn/intro-to-machine-learning/discussion) to chat with other learners.*"
   ]
  }
 ],
 "metadata": {
  "kernelspec": {
   "display_name": "Python 3",
   "language": "python",
   "name": "python3"
  },
  "language_info": {
   "codemirror_mode": {
    "name": "ipython",
    "version": 3
   },
   "file_extension": ".py",
   "mimetype": "text/x-python",
   "name": "python",
   "nbconvert_exporter": "python",
   "pygments_lexer": "ipython3",
   "version": "3.7.10"
  },
  "papermill": {
   "default_parameters": {},
   "duration": 9.6255,
   "end_time": "2021-11-09T00:01:06.453519",
   "environment_variables": {},
   "exception": null,
   "input_path": "__notebook__.ipynb",
   "output_path": "__notebook__.ipynb",
   "parameters": {},
   "start_time": "2021-11-09T00:00:56.828019",
   "version": "2.3.3"
  }
 },
 "nbformat": 4,
 "nbformat_minor": 5
}
