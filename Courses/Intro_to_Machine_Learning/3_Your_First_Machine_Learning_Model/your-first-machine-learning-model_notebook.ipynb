{
 "cells": [
  {
   "cell_type": "markdown",
   "id": "cf6c31de",
   "metadata": {
    "papermill": {
     "duration": 0.010438,
     "end_time": "2021-11-09T00:01:18.025351",
     "exception": false,
     "start_time": "2021-11-09T00:01:18.014913",
     "status": "completed"
    },
    "tags": []
   },
   "source": [
    "# Selecting Data for Modeling\n",
    "Your dataset had  too many variables to wrap your head around, or even to print out nicely.  How can you pare down this overwhelming amount of data to something you can understand?\n",
    "\n",
    "We'll start by picking a few variables using our intuition. Later courses will show you statistical techniques to automatically prioritize variables.\n",
    "\n",
    "To choose variables/columns, we'll need to see a list of all columns in the dataset. That is done with the **columns** property of the DataFrame (the bottom line of code below).\n"
   ]
  },
  {
   "cell_type": "code",
   "execution_count": 1,
   "id": "9f5e9c95",
   "metadata": {
    "execution": {
     "iopub.execute_input": "2021-11-09T00:01:18.051021Z",
     "iopub.status.busy": "2021-11-09T00:01:18.049219Z",
     "iopub.status.idle": "2021-11-09T00:01:18.185339Z",
     "shell.execute_reply": "2021-11-09T00:01:18.185856Z"
    },
    "papermill": {
     "duration": 0.151029,
     "end_time": "2021-11-09T00:01:18.186138",
     "exception": false,
     "start_time": "2021-11-09T00:01:18.035109",
     "status": "completed"
    },
    "tags": []
   },
   "outputs": [
    {
     "data": {
      "text/plain": [
       "Index(['Suburb', 'Address', 'Rooms', 'Type', 'Price', 'Method', 'SellerG',\n",
       "       'Date', 'Distance', 'Postcode', 'Bedroom2', 'Bathroom', 'Car',\n",
       "       'Landsize', 'BuildingArea', 'YearBuilt', 'CouncilArea', 'Lattitude',\n",
       "       'Longtitude', 'Regionname', 'Propertycount'],\n",
       "      dtype='object')"
      ]
     },
     "execution_count": 1,
     "metadata": {},
     "output_type": "execute_result"
    }
   ],
   "source": [
    "import pandas as pd\n",
    "\n",
    "melbourne_file_path = '../input/melbourne-housing-snapshot/melb_data.csv'\n",
    "melbourne_data = pd.read_csv(melbourne_file_path) \n",
    "melbourne_data.columns"
   ]
  },
  {
   "cell_type": "code",
   "execution_count": 2,
   "id": "13e3d4a6",
   "metadata": {
    "execution": {
     "iopub.execute_input": "2021-11-09T00:01:18.214401Z",
     "iopub.status.busy": "2021-11-09T00:01:18.213431Z",
     "iopub.status.idle": "2021-11-09T00:01:18.239193Z",
     "shell.execute_reply": "2021-11-09T00:01:18.238499Z"
    },
    "papermill": {
     "duration": 0.043215,
     "end_time": "2021-11-09T00:01:18.239351",
     "exception": false,
     "start_time": "2021-11-09T00:01:18.196136",
     "status": "completed"
    },
    "tags": []
   },
   "outputs": [],
   "source": [
    "# The Melbourne data has some missing values (some houses for which some variables weren't recorded.)\n",
    "# We'll learn to handle missing values in a later tutorial.  \n",
    "# Your Iowa data doesn't have missing values in the columns you use. \n",
    "# So we will take the simplest option for now, and drop houses from our data. \n",
    "# Don't worry about this much for now, though the code is:\n",
    "\n",
    "# dropna drops missing values (think of na as \"not available\")\n",
    "melbourne_data = melbourne_data.dropna(axis=0)"
   ]
  },
  {
   "cell_type": "markdown",
   "id": "86977cbe",
   "metadata": {
    "papermill": {
     "duration": 0.010888,
     "end_time": "2021-11-09T00:01:18.260527",
     "exception": false,
     "start_time": "2021-11-09T00:01:18.249639",
     "status": "completed"
    },
    "tags": []
   },
   "source": [
    "There are many ways to select a subset of your data. The [Pandas course](https://www.kaggle.com/learn/pandas) covers these in more depth, but we will focus on two approaches for now.\n",
    "\n",
    "1. Dot notation, which we use to select the \"prediction target\"\n",
    "2. Selecting with a column list, which we use to select the \"features\" \n",
    "\n",
    "## Selecting The Prediction Target \n",
    "You can pull out a variable with **dot-notation**.  This single column is stored in a **Series**, which is broadly like a DataFrame with only a single column of data.  \n",
    "\n",
    "We'll use the dot notation to select the column we want to predict, which is called the **prediction target**. By convention, the prediction target is called **y**. So the code we need to save the house prices in the Melbourne data is"
   ]
  },
  {
   "cell_type": "code",
   "execution_count": 3,
   "id": "2c930e65",
   "metadata": {
    "collapsed": true,
    "execution": {
     "iopub.execute_input": "2021-11-09T00:01:18.285991Z",
     "iopub.status.busy": "2021-11-09T00:01:18.284638Z",
     "iopub.status.idle": "2021-11-09T00:01:18.295906Z",
     "shell.execute_reply": "2021-11-09T00:01:18.295312Z"
    },
    "papermill": {
     "duration": 0.02532,
     "end_time": "2021-11-09T00:01:18.296053",
     "exception": false,
     "start_time": "2021-11-09T00:01:18.270733",
     "status": "completed"
    },
    "tags": []
   },
   "outputs": [],
   "source": [
    "y = melbourne_data.Price"
   ]
  },
  {
   "cell_type": "markdown",
   "id": "c3dce93e",
   "metadata": {
    "papermill": {
     "duration": 0.009417,
     "end_time": "2021-11-09T00:01:18.315330",
     "exception": false,
     "start_time": "2021-11-09T00:01:18.305913",
     "status": "completed"
    },
    "tags": []
   },
   "source": [
    "# Choosing \"Features\"\n",
    "The columns that are inputted into our model (and later used to make predictions) are called \"features.\" In our case, those would be the columns used to determine the home price. Sometimes, you will use all columns except the target as features. Other times you'll be better off with fewer features. \n",
    "\n",
    "For now, we'll build a model with only a few features. Later on you'll see how to iterate and compare models built with different features.\n",
    "\n",
    "We select multiple features by providing a list of column names inside brackets. Each item in that list should be a string (with quotes).\n",
    "\n",
    "Here is an example:"
   ]
  },
  {
   "cell_type": "code",
   "execution_count": 4,
   "id": "0785c333",
   "metadata": {
    "collapsed": true,
    "execution": {
     "iopub.execute_input": "2021-11-09T00:01:18.338156Z",
     "iopub.status.busy": "2021-11-09T00:01:18.337480Z",
     "iopub.status.idle": "2021-11-09T00:01:18.340893Z",
     "shell.execute_reply": "2021-11-09T00:01:18.341325Z"
    },
    "papermill": {
     "duration": 0.016509,
     "end_time": "2021-11-09T00:01:18.341525",
     "exception": false,
     "start_time": "2021-11-09T00:01:18.325016",
     "status": "completed"
    },
    "tags": []
   },
   "outputs": [],
   "source": [
    "melbourne_features = ['Rooms', 'Bathroom', 'Landsize', 'Lattitude', 'Longtitude']"
   ]
  },
  {
   "cell_type": "markdown",
   "id": "b8ea0ac5",
   "metadata": {
    "papermill": {
     "duration": 0.010313,
     "end_time": "2021-11-09T00:01:18.362549",
     "exception": false,
     "start_time": "2021-11-09T00:01:18.352236",
     "status": "completed"
    },
    "tags": []
   },
   "source": [
    "By convention, this data is called **X**."
   ]
  },
  {
   "cell_type": "code",
   "execution_count": 5,
   "id": "caba549d",
   "metadata": {
    "collapsed": true,
    "execution": {
     "iopub.execute_input": "2021-11-09T00:01:18.385348Z",
     "iopub.status.busy": "2021-11-09T00:01:18.384723Z",
     "iopub.status.idle": "2021-11-09T00:01:18.391379Z",
     "shell.execute_reply": "2021-11-09T00:01:18.391954Z"
    },
    "papermill": {
     "duration": 0.019843,
     "end_time": "2021-11-09T00:01:18.392142",
     "exception": false,
     "start_time": "2021-11-09T00:01:18.372299",
     "status": "completed"
    },
    "tags": []
   },
   "outputs": [],
   "source": [
    "X = melbourne_data[melbourne_features]"
   ]
  },
  {
   "cell_type": "markdown",
   "id": "3f7aaf56",
   "metadata": {
    "papermill": {
     "duration": 0.009694,
     "end_time": "2021-11-09T00:01:18.412328",
     "exception": false,
     "start_time": "2021-11-09T00:01:18.402634",
     "status": "completed"
    },
    "tags": []
   },
   "source": [
    "Let's quickly review the data we'll be using to predict house prices using the `describe` method and the `head` method, which shows the top few rows."
   ]
  },
  {
   "cell_type": "code",
   "execution_count": 6,
   "id": "e1c8c23e",
   "metadata": {
    "execution": {
     "iopub.execute_input": "2021-11-09T00:01:18.436486Z",
     "iopub.status.busy": "2021-11-09T00:01:18.435790Z",
     "iopub.status.idle": "2021-11-09T00:01:18.468554Z",
     "shell.execute_reply": "2021-11-09T00:01:18.469002Z"
    },
    "papermill": {
     "duration": 0.046281,
     "end_time": "2021-11-09T00:01:18.469195",
     "exception": false,
     "start_time": "2021-11-09T00:01:18.422914",
     "status": "completed"
    },
    "tags": []
   },
   "outputs": [
    {
     "data": {
      "text/html": [
       "<div>\n",
       "<style scoped>\n",
       "    .dataframe tbody tr th:only-of-type {\n",
       "        vertical-align: middle;\n",
       "    }\n",
       "\n",
       "    .dataframe tbody tr th {\n",
       "        vertical-align: top;\n",
       "    }\n",
       "\n",
       "    .dataframe thead th {\n",
       "        text-align: right;\n",
       "    }\n",
       "</style>\n",
       "<table border=\"1\" class=\"dataframe\">\n",
       "  <thead>\n",
       "    <tr style=\"text-align: right;\">\n",
       "      <th></th>\n",
       "      <th>Rooms</th>\n",
       "      <th>Bathroom</th>\n",
       "      <th>Landsize</th>\n",
       "      <th>Lattitude</th>\n",
       "      <th>Longtitude</th>\n",
       "    </tr>\n",
       "  </thead>\n",
       "  <tbody>\n",
       "    <tr>\n",
       "      <th>count</th>\n",
       "      <td>6196.000000</td>\n",
       "      <td>6196.000000</td>\n",
       "      <td>6196.000000</td>\n",
       "      <td>6196.000000</td>\n",
       "      <td>6196.000000</td>\n",
       "    </tr>\n",
       "    <tr>\n",
       "      <th>mean</th>\n",
       "      <td>2.931407</td>\n",
       "      <td>1.576340</td>\n",
       "      <td>471.006940</td>\n",
       "      <td>-37.807904</td>\n",
       "      <td>144.990201</td>\n",
       "    </tr>\n",
       "    <tr>\n",
       "      <th>std</th>\n",
       "      <td>0.971079</td>\n",
       "      <td>0.711362</td>\n",
       "      <td>897.449881</td>\n",
       "      <td>0.075850</td>\n",
       "      <td>0.099165</td>\n",
       "    </tr>\n",
       "    <tr>\n",
       "      <th>min</th>\n",
       "      <td>1.000000</td>\n",
       "      <td>1.000000</td>\n",
       "      <td>0.000000</td>\n",
       "      <td>-38.164920</td>\n",
       "      <td>144.542370</td>\n",
       "    </tr>\n",
       "    <tr>\n",
       "      <th>25%</th>\n",
       "      <td>2.000000</td>\n",
       "      <td>1.000000</td>\n",
       "      <td>152.000000</td>\n",
       "      <td>-37.855438</td>\n",
       "      <td>144.926198</td>\n",
       "    </tr>\n",
       "    <tr>\n",
       "      <th>50%</th>\n",
       "      <td>3.000000</td>\n",
       "      <td>1.000000</td>\n",
       "      <td>373.000000</td>\n",
       "      <td>-37.802250</td>\n",
       "      <td>144.995800</td>\n",
       "    </tr>\n",
       "    <tr>\n",
       "      <th>75%</th>\n",
       "      <td>4.000000</td>\n",
       "      <td>2.000000</td>\n",
       "      <td>628.000000</td>\n",
       "      <td>-37.758200</td>\n",
       "      <td>145.052700</td>\n",
       "    </tr>\n",
       "    <tr>\n",
       "      <th>max</th>\n",
       "      <td>8.000000</td>\n",
       "      <td>8.000000</td>\n",
       "      <td>37000.000000</td>\n",
       "      <td>-37.457090</td>\n",
       "      <td>145.526350</td>\n",
       "    </tr>\n",
       "  </tbody>\n",
       "</table>\n",
       "</div>"
      ],
      "text/plain": [
       "             Rooms     Bathroom      Landsize    Lattitude   Longtitude\n",
       "count  6196.000000  6196.000000   6196.000000  6196.000000  6196.000000\n",
       "mean      2.931407     1.576340    471.006940   -37.807904   144.990201\n",
       "std       0.971079     0.711362    897.449881     0.075850     0.099165\n",
       "min       1.000000     1.000000      0.000000   -38.164920   144.542370\n",
       "25%       2.000000     1.000000    152.000000   -37.855438   144.926198\n",
       "50%       3.000000     1.000000    373.000000   -37.802250   144.995800\n",
       "75%       4.000000     2.000000    628.000000   -37.758200   145.052700\n",
       "max       8.000000     8.000000  37000.000000   -37.457090   145.526350"
      ]
     },
     "execution_count": 6,
     "metadata": {},
     "output_type": "execute_result"
    }
   ],
   "source": [
    "X.describe()"
   ]
  },
  {
   "cell_type": "code",
   "execution_count": 7,
   "id": "1611ace0",
   "metadata": {
    "execution": {
     "iopub.execute_input": "2021-11-09T00:01:18.494973Z",
     "iopub.status.busy": "2021-11-09T00:01:18.494196Z",
     "iopub.status.idle": "2021-11-09T00:01:18.505156Z",
     "shell.execute_reply": "2021-11-09T00:01:18.505673Z"
    },
    "papermill": {
     "duration": 0.025475,
     "end_time": "2021-11-09T00:01:18.505852",
     "exception": false,
     "start_time": "2021-11-09T00:01:18.480377",
     "status": "completed"
    },
    "tags": []
   },
   "outputs": [
    {
     "data": {
      "text/html": [
       "<div>\n",
       "<style scoped>\n",
       "    .dataframe tbody tr th:only-of-type {\n",
       "        vertical-align: middle;\n",
       "    }\n",
       "\n",
       "    .dataframe tbody tr th {\n",
       "        vertical-align: top;\n",
       "    }\n",
       "\n",
       "    .dataframe thead th {\n",
       "        text-align: right;\n",
       "    }\n",
       "</style>\n",
       "<table border=\"1\" class=\"dataframe\">\n",
       "  <thead>\n",
       "    <tr style=\"text-align: right;\">\n",
       "      <th></th>\n",
       "      <th>Rooms</th>\n",
       "      <th>Bathroom</th>\n",
       "      <th>Landsize</th>\n",
       "      <th>Lattitude</th>\n",
       "      <th>Longtitude</th>\n",
       "    </tr>\n",
       "  </thead>\n",
       "  <tbody>\n",
       "    <tr>\n",
       "      <th>1</th>\n",
       "      <td>2</td>\n",
       "      <td>1.0</td>\n",
       "      <td>156.0</td>\n",
       "      <td>-37.8079</td>\n",
       "      <td>144.9934</td>\n",
       "    </tr>\n",
       "    <tr>\n",
       "      <th>2</th>\n",
       "      <td>3</td>\n",
       "      <td>2.0</td>\n",
       "      <td>134.0</td>\n",
       "      <td>-37.8093</td>\n",
       "      <td>144.9944</td>\n",
       "    </tr>\n",
       "    <tr>\n",
       "      <th>4</th>\n",
       "      <td>4</td>\n",
       "      <td>1.0</td>\n",
       "      <td>120.0</td>\n",
       "      <td>-37.8072</td>\n",
       "      <td>144.9941</td>\n",
       "    </tr>\n",
       "    <tr>\n",
       "      <th>6</th>\n",
       "      <td>3</td>\n",
       "      <td>2.0</td>\n",
       "      <td>245.0</td>\n",
       "      <td>-37.8024</td>\n",
       "      <td>144.9993</td>\n",
       "    </tr>\n",
       "    <tr>\n",
       "      <th>7</th>\n",
       "      <td>2</td>\n",
       "      <td>1.0</td>\n",
       "      <td>256.0</td>\n",
       "      <td>-37.8060</td>\n",
       "      <td>144.9954</td>\n",
       "    </tr>\n",
       "  </tbody>\n",
       "</table>\n",
       "</div>"
      ],
      "text/plain": [
       "   Rooms  Bathroom  Landsize  Lattitude  Longtitude\n",
       "1      2       1.0     156.0   -37.8079    144.9934\n",
       "2      3       2.0     134.0   -37.8093    144.9944\n",
       "4      4       1.0     120.0   -37.8072    144.9941\n",
       "6      3       2.0     245.0   -37.8024    144.9993\n",
       "7      2       1.0     256.0   -37.8060    144.9954"
      ]
     },
     "execution_count": 7,
     "metadata": {},
     "output_type": "execute_result"
    }
   ],
   "source": [
    "X.head()"
   ]
  },
  {
   "cell_type": "markdown",
   "id": "43185f77",
   "metadata": {
    "papermill": {
     "duration": 0.011205,
     "end_time": "2021-11-09T00:01:18.528204",
     "exception": false,
     "start_time": "2021-11-09T00:01:18.516999",
     "status": "completed"
    },
    "tags": []
   },
   "source": [
    "Visually checking your data with these commands is an important part of a data scientist's job.  You'll frequently find surprises in the dataset that deserve further inspection."
   ]
  },
  {
   "cell_type": "markdown",
   "id": "4176e64a",
   "metadata": {
    "papermill": {
     "duration": 0.010664,
     "end_time": "2021-11-09T00:01:18.549929",
     "exception": false,
     "start_time": "2021-11-09T00:01:18.539265",
     "status": "completed"
    },
    "tags": []
   },
   "source": [
    "---\n",
    "# Building Your Model\n",
    "\n",
    "You will use the **scikit-learn** library to create your models.  When coding, this library is written as **sklearn**, as you will see in the sample code. Scikit-learn is easily the most popular library for modeling the types of data typically stored in DataFrames. \n",
    "\n",
    "The steps to building and using a model are:\n",
    "* **Define:** What type of model will it be?  A decision tree?  Some other type of model? Some other parameters of the model type are specified too.\n",
    "* **Fit:** Capture patterns from provided data. This is the heart of modeling.\n",
    "* **Predict:** Just what it sounds like\n",
    "* **Evaluate**: Determine how accurate the model's predictions are.\n",
    "\n",
    "Here is an example of defining a decision tree model with scikit-learn and fitting it with the features and target variable."
   ]
  },
  {
   "cell_type": "code",
   "execution_count": 8,
   "id": "1e716f1d",
   "metadata": {
    "collapsed": true,
    "execution": {
     "iopub.execute_input": "2021-11-09T00:01:18.575825Z",
     "iopub.status.busy": "2021-11-09T00:01:18.575180Z",
     "iopub.status.idle": "2021-11-09T00:01:19.739988Z",
     "shell.execute_reply": "2021-11-09T00:01:19.740473Z"
    },
    "papermill": {
     "duration": 1.179906,
     "end_time": "2021-11-09T00:01:19.740675",
     "exception": false,
     "start_time": "2021-11-09T00:01:18.560769",
     "status": "completed"
    },
    "tags": []
   },
   "outputs": [
    {
     "data": {
      "text/plain": [
       "DecisionTreeRegressor(random_state=1)"
      ]
     },
     "execution_count": 8,
     "metadata": {},
     "output_type": "execute_result"
    }
   ],
   "source": [
    "from sklearn.tree import DecisionTreeRegressor\n",
    "\n",
    "# Define model. Specify a number for random_state to ensure same results each run\n",
    "melbourne_model = DecisionTreeRegressor(random_state=1)\n",
    "\n",
    "# Fit model\n",
    "melbourne_model.fit(X, y)"
   ]
  },
  {
   "cell_type": "markdown",
   "id": "3fb6db3c",
   "metadata": {
    "papermill": {
     "duration": 0.011196,
     "end_time": "2021-11-09T00:01:19.764031",
     "exception": false,
     "start_time": "2021-11-09T00:01:19.752835",
     "status": "completed"
    },
    "tags": []
   },
   "source": [
    "Many machine learning models allow some randomness in model training. Specifying a number for `random_state` ensures you get the same results in each run. This is considered a good practice. You use any number, and model quality won't depend meaningfully on exactly what value you choose.\n",
    "\n",
    "We now have a fitted model that we can use to make predictions.\n",
    "\n",
    "In practice, you'll want to make predictions for new houses coming on the market rather than the houses we already have prices for. But we'll make predictions for the first few rows of the training data to see how the predict function works.\n"
   ]
  },
  {
   "cell_type": "code",
   "execution_count": 9,
   "id": "3b962e6b",
   "metadata": {
    "collapsed": true,
    "execution": {
     "iopub.execute_input": "2021-11-09T00:01:19.791031Z",
     "iopub.status.busy": "2021-11-09T00:01:19.790299Z",
     "iopub.status.idle": "2021-11-09T00:01:19.801998Z",
     "shell.execute_reply": "2021-11-09T00:01:19.802695Z"
    },
    "papermill": {
     "duration": 0.027281,
     "end_time": "2021-11-09T00:01:19.802903",
     "exception": false,
     "start_time": "2021-11-09T00:01:19.775622",
     "status": "completed"
    },
    "tags": []
   },
   "outputs": [
    {
     "name": "stdout",
     "output_type": "stream",
     "text": [
      "Making predictions for the following 5 houses:\n",
      "   Rooms  Bathroom  Landsize  Lattitude  Longtitude\n",
      "1      2       1.0     156.0   -37.8079    144.9934\n",
      "2      3       2.0     134.0   -37.8093    144.9944\n",
      "4      4       1.0     120.0   -37.8072    144.9941\n",
      "6      3       2.0     245.0   -37.8024    144.9993\n",
      "7      2       1.0     256.0   -37.8060    144.9954\n",
      "The predictions are\n",
      "[1035000. 1465000. 1600000. 1876000. 1636000.]\n"
     ]
    }
   ],
   "source": [
    "print(\"Making predictions for the following 5 houses:\")\n",
    "print(X.head())\n",
    "print(\"The predictions are\")\n",
    "print(melbourne_model.predict(X.head()))"
   ]
  },
  {
   "cell_type": "markdown",
   "id": "2d8b7eac",
   "metadata": {
    "papermill": {
     "duration": 0.01214,
     "end_time": "2021-11-09T00:01:19.827052",
     "exception": false,
     "start_time": "2021-11-09T00:01:19.814912",
     "status": "completed"
    },
    "tags": []
   },
   "source": [
    "# Your Turn\n",
    "Try it out yourself in the **[Model Building Exercise](https://www.kaggle.com/kernels/fork/1404276)**"
   ]
  },
  {
   "cell_type": "markdown",
   "id": "82f900b6",
   "metadata": {
    "papermill": {
     "duration": 0.01165,
     "end_time": "2021-11-09T00:01:19.850961",
     "exception": false,
     "start_time": "2021-11-09T00:01:19.839311",
     "status": "completed"
    },
    "tags": []
   },
   "source": [
    "---\n",
    "\n",
    "\n",
    "\n",
    "\n",
    "*Have questions or comments? Visit the [course discussion forum](https://www.kaggle.com/learn/intro-to-machine-learning/discussion) to chat with other learners.*"
   ]
  }
 ],
 "metadata": {
  "kernelspec": {
   "display_name": "Python 3",
   "language": "python",
   "name": "python3"
  },
  "language_info": {
   "codemirror_mode": {
    "name": "ipython",
    "version": 3
   },
   "file_extension": ".py",
   "mimetype": "text/x-python",
   "name": "python",
   "nbconvert_exporter": "python",
   "pygments_lexer": "ipython3",
   "version": "3.7.10"
  },
  "papermill": {
   "default_parameters": {},
   "duration": 11.041134,
   "end_time": "2021-11-09T00:01:20.574451",
   "environment_variables": {},
   "exception": null,
   "input_path": "__notebook__.ipynb",
   "output_path": "__notebook__.ipynb",
   "parameters": {},
   "start_time": "2021-11-09T00:01:09.533317",
   "version": "2.3.3"
  }
 },
 "nbformat": 4,
 "nbformat_minor": 5
}
