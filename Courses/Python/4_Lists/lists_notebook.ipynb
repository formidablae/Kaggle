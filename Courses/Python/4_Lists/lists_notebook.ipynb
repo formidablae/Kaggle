{
 "cells": [
  {
   "cell_type": "markdown",
   "id": "56fb4969",
   "metadata": {
    "papermill": {
     "duration": 0.044635,
     "end_time": "2021-11-11T14:28:38.130790",
     "exception": false,
     "start_time": "2021-11-11T14:28:38.086155",
     "status": "completed"
    },
    "tags": []
   },
   "source": [
    "# Lists\n",
    "\n",
    "Lists in Python represent ordered sequences of values. Here is an example of how to create them:"
   ]
  },
  {
   "cell_type": "code",
   "execution_count": 1,
   "id": "e0c22569",
   "metadata": {
    "collapsed": true,
    "execution": {
     "iopub.execute_input": "2021-11-11T14:28:38.218279Z",
     "iopub.status.busy": "2021-11-11T14:28:38.217144Z",
     "iopub.status.idle": "2021-11-11T14:28:38.227274Z",
     "shell.execute_reply": "2021-11-11T14:28:38.227744Z"
    },
    "papermill": {
     "duration": 0.055697,
     "end_time": "2021-11-11T14:28:38.228013",
     "exception": false,
     "start_time": "2021-11-11T14:28:38.172316",
     "status": "completed"
    },
    "tags": []
   },
   "outputs": [],
   "source": [
    "primes = [2, 3, 5, 7]"
   ]
  },
  {
   "cell_type": "markdown",
   "id": "1d517b44",
   "metadata": {
    "papermill": {
     "duration": 0.041205,
     "end_time": "2021-11-11T14:28:38.311664",
     "exception": false,
     "start_time": "2021-11-11T14:28:38.270459",
     "status": "completed"
    },
    "tags": []
   },
   "source": [
    "We can put other types of things in lists:"
   ]
  },
  {
   "cell_type": "code",
   "execution_count": 2,
   "id": "11fa3be4",
   "metadata": {
    "collapsed": true,
    "execution": {
     "iopub.execute_input": "2021-11-11T14:28:38.397424Z",
     "iopub.status.busy": "2021-11-11T14:28:38.396767Z",
     "iopub.status.idle": "2021-11-11T14:28:38.400480Z",
     "shell.execute_reply": "2021-11-11T14:28:38.401025Z"
    },
    "papermill": {
     "duration": 0.047838,
     "end_time": "2021-11-11T14:28:38.401201",
     "exception": false,
     "start_time": "2021-11-11T14:28:38.353363",
     "status": "completed"
    },
    "tags": []
   },
   "outputs": [],
   "source": [
    "planets = ['Mercury', 'Venus', 'Earth', 'Mars', 'Jupiter', 'Saturn', 'Uranus', 'Neptune']"
   ]
  },
  {
   "cell_type": "markdown",
   "id": "db21f750",
   "metadata": {
    "papermill": {
     "duration": 0.045373,
     "end_time": "2021-11-11T14:28:38.491237",
     "exception": false,
     "start_time": "2021-11-11T14:28:38.445864",
     "status": "completed"
    },
    "tags": []
   },
   "source": [
    "We can even make a list of lists:"
   ]
  },
  {
   "cell_type": "code",
   "execution_count": 3,
   "id": "b5fe50d5",
   "metadata": {
    "collapsed": true,
    "execution": {
     "iopub.execute_input": "2021-11-11T14:28:38.639015Z",
     "iopub.status.busy": "2021-11-11T14:28:38.638382Z",
     "iopub.status.idle": "2021-11-11T14:28:38.643143Z",
     "shell.execute_reply": "2021-11-11T14:28:38.643742Z"
    },
    "papermill": {
     "duration": 0.107502,
     "end_time": "2021-11-11T14:28:38.643890",
     "exception": false,
     "start_time": "2021-11-11T14:28:38.536388",
     "status": "completed"
    },
    "tags": []
   },
   "outputs": [],
   "source": [
    "hands = [\n",
    "    ['J', 'Q', 'K'],\n",
    "    ['2', '2', '2'],\n",
    "    ['6', 'A', 'K'], # (Comma after the last element is optional)\n",
    "]\n",
    "# (I could also have written this on one line, but it can get hard to read)\n",
    "hands = [['J', 'Q', 'K'], ['2', '2', '2'], ['6', 'A', 'K']]"
   ]
  },
  {
   "cell_type": "markdown",
   "id": "2759b8ee",
   "metadata": {
    "papermill": {
     "duration": 0.047578,
     "end_time": "2021-11-11T14:28:38.734184",
     "exception": false,
     "start_time": "2021-11-11T14:28:38.686606",
     "status": "completed"
    },
    "tags": []
   },
   "source": [
    "A list can contain a mix of different types of variables:"
   ]
  },
  {
   "cell_type": "code",
   "execution_count": 4,
   "id": "5d995459",
   "metadata": {
    "collapsed": true,
    "execution": {
     "iopub.execute_input": "2021-11-11T14:28:38.850021Z",
     "iopub.status.busy": "2021-11-11T14:28:38.849350Z",
     "iopub.status.idle": "2021-11-11T14:28:38.851059Z",
     "shell.execute_reply": "2021-11-11T14:28:38.851528Z"
    },
    "papermill": {
     "duration": 0.057842,
     "end_time": "2021-11-11T14:28:38.851726",
     "exception": false,
     "start_time": "2021-11-11T14:28:38.793884",
     "status": "completed"
    },
    "tags": []
   },
   "outputs": [],
   "source": [
    "my_favourite_things = [32, 'raindrops on roses', help]\n",
    "# (Yes, Python's help function is *definitely* one of my favourite things)"
   ]
  },
  {
   "cell_type": "markdown",
   "id": "00dbeb24",
   "metadata": {
    "papermill": {
     "duration": 0.043931,
     "end_time": "2021-11-11T14:28:38.941345",
     "exception": false,
     "start_time": "2021-11-11T14:28:38.897414",
     "status": "completed"
    },
    "tags": []
   },
   "source": [
    "## Indexing\n",
    "\n",
    "You can access individual list elements with square brackets.\n",
    "\n",
    "Which planet is closest to the sun? Python uses *zero-based* indexing, so the first element has index 0."
   ]
  },
  {
   "cell_type": "code",
   "execution_count": 5,
   "id": "5969d612",
   "metadata": {
    "execution": {
     "iopub.execute_input": "2021-11-11T14:28:39.038898Z",
     "iopub.status.busy": "2021-11-11T14:28:39.038132Z",
     "iopub.status.idle": "2021-11-11T14:28:39.041316Z",
     "shell.execute_reply": "2021-11-11T14:28:39.041869Z"
    },
    "papermill": {
     "duration": 0.056356,
     "end_time": "2021-11-11T14:28:39.042078",
     "exception": false,
     "start_time": "2021-11-11T14:28:38.985722",
     "status": "completed"
    },
    "tags": []
   },
   "outputs": [
    {
     "data": {
      "text/plain": [
       "'Mercury'"
      ]
     },
     "execution_count": 5,
     "metadata": {},
     "output_type": "execute_result"
    }
   ],
   "source": [
    "planets[0]"
   ]
  },
  {
   "cell_type": "markdown",
   "id": "99f356c1",
   "metadata": {
    "papermill": {
     "duration": 0.045468,
     "end_time": "2021-11-11T14:28:39.134834",
     "exception": false,
     "start_time": "2021-11-11T14:28:39.089366",
     "status": "completed"
    },
    "tags": []
   },
   "source": [
    "What's the next closest planet?"
   ]
  },
  {
   "cell_type": "code",
   "execution_count": 6,
   "id": "9a951bfc",
   "metadata": {
    "execution": {
     "iopub.execute_input": "2021-11-11T14:28:39.228851Z",
     "iopub.status.busy": "2021-11-11T14:28:39.228272Z",
     "iopub.status.idle": "2021-11-11T14:28:39.232508Z",
     "shell.execute_reply": "2021-11-11T14:28:39.233192Z"
    },
    "papermill": {
     "duration": 0.053048,
     "end_time": "2021-11-11T14:28:39.233376",
     "exception": false,
     "start_time": "2021-11-11T14:28:39.180328",
     "status": "completed"
    },
    "tags": []
   },
   "outputs": [
    {
     "data": {
      "text/plain": [
       "'Venus'"
      ]
     },
     "execution_count": 6,
     "metadata": {},
     "output_type": "execute_result"
    }
   ],
   "source": [
    "planets[1]"
   ]
  },
  {
   "cell_type": "markdown",
   "id": "c21171ec",
   "metadata": {
    "papermill": {
     "duration": 0.045506,
     "end_time": "2021-11-11T14:28:39.324882",
     "exception": false,
     "start_time": "2021-11-11T14:28:39.279376",
     "status": "completed"
    },
    "tags": []
   },
   "source": [
    "Which planet is *furthest* from the sun?\n",
    "\n",
    "Elements at the end of the list can be accessed with negative numbers, starting from -1:"
   ]
  },
  {
   "cell_type": "code",
   "execution_count": 7,
   "id": "1bafd553",
   "metadata": {
    "execution": {
     "iopub.execute_input": "2021-11-11T14:28:39.420901Z",
     "iopub.status.busy": "2021-11-11T14:28:39.420281Z",
     "iopub.status.idle": "2021-11-11T14:28:39.424576Z",
     "shell.execute_reply": "2021-11-11T14:28:39.425034Z"
    },
    "papermill": {
     "duration": 0.054908,
     "end_time": "2021-11-11T14:28:39.425222",
     "exception": false,
     "start_time": "2021-11-11T14:28:39.370314",
     "status": "completed"
    },
    "tags": []
   },
   "outputs": [
    {
     "data": {
      "text/plain": [
       "'Neptune'"
      ]
     },
     "execution_count": 7,
     "metadata": {},
     "output_type": "execute_result"
    }
   ],
   "source": [
    "planets[-1]"
   ]
  },
  {
   "cell_type": "code",
   "execution_count": 8,
   "id": "59382cc7",
   "metadata": {
    "execution": {
     "iopub.execute_input": "2021-11-11T14:28:39.520309Z",
     "iopub.status.busy": "2021-11-11T14:28:39.519363Z",
     "iopub.status.idle": "2021-11-11T14:28:39.524484Z",
     "shell.execute_reply": "2021-11-11T14:28:39.525062Z"
    },
    "papermill": {
     "duration": 0.054886,
     "end_time": "2021-11-11T14:28:39.525273",
     "exception": false,
     "start_time": "2021-11-11T14:28:39.470387",
     "status": "completed"
    },
    "tags": []
   },
   "outputs": [
    {
     "data": {
      "text/plain": [
       "'Uranus'"
      ]
     },
     "execution_count": 8,
     "metadata": {},
     "output_type": "execute_result"
    }
   ],
   "source": [
    "planets[-2]"
   ]
  },
  {
   "cell_type": "markdown",
   "id": "0b04f842",
   "metadata": {
    "papermill": {
     "duration": 0.046838,
     "end_time": "2021-11-11T14:28:39.619926",
     "exception": false,
     "start_time": "2021-11-11T14:28:39.573088",
     "status": "completed"
    },
    "tags": []
   },
   "source": [
    "## Slicing\n",
    "\n",
    "What are the first three planets? We can answer this question using *slicing*:"
   ]
  },
  {
   "cell_type": "code",
   "execution_count": 9,
   "id": "f36c604e",
   "metadata": {
    "execution": {
     "iopub.execute_input": "2021-11-11T14:28:39.721409Z",
     "iopub.status.busy": "2021-11-11T14:28:39.720705Z",
     "iopub.status.idle": "2021-11-11T14:28:39.723706Z",
     "shell.execute_reply": "2021-11-11T14:28:39.724288Z"
    },
    "papermill": {
     "duration": 0.056135,
     "end_time": "2021-11-11T14:28:39.724463",
     "exception": false,
     "start_time": "2021-11-11T14:28:39.668328",
     "status": "completed"
    },
    "tags": []
   },
   "outputs": [
    {
     "data": {
      "text/plain": [
       "['Mercury', 'Venus', 'Earth']"
      ]
     },
     "execution_count": 9,
     "metadata": {},
     "output_type": "execute_result"
    }
   ],
   "source": [
    "planets[0:3]"
   ]
  },
  {
   "cell_type": "markdown",
   "id": "19121be1",
   "metadata": {
    "papermill": {
     "duration": 0.049084,
     "end_time": "2021-11-11T14:28:39.820595",
     "exception": false,
     "start_time": "2021-11-11T14:28:39.771511",
     "status": "completed"
    },
    "tags": []
   },
   "source": [
    "`planets[0:3]` is our way of asking for the elements of `planets` starting from index 0 and continuing up to *but not including* index 3.\n",
    "\n",
    "The starting and ending indices are both optional. If I leave out the start index, it's assumed to be 0. So I could rewrite the expression above as:"
   ]
  },
  {
   "cell_type": "code",
   "execution_count": 10,
   "id": "d53a2f82",
   "metadata": {
    "execution": {
     "iopub.execute_input": "2021-11-11T14:28:39.923824Z",
     "iopub.status.busy": "2021-11-11T14:28:39.923131Z",
     "iopub.status.idle": "2021-11-11T14:28:39.928120Z",
     "shell.execute_reply": "2021-11-11T14:28:39.928648Z"
    },
    "papermill": {
     "duration": 0.05774,
     "end_time": "2021-11-11T14:28:39.928807",
     "exception": false,
     "start_time": "2021-11-11T14:28:39.871067",
     "status": "completed"
    },
    "tags": []
   },
   "outputs": [
    {
     "data": {
      "text/plain": [
       "['Mercury', 'Venus', 'Earth']"
      ]
     },
     "execution_count": 10,
     "metadata": {},
     "output_type": "execute_result"
    }
   ],
   "source": [
    "planets[:3]"
   ]
  },
  {
   "cell_type": "markdown",
   "id": "05c43aca",
   "metadata": {
    "papermill": {
     "duration": 0.048802,
     "end_time": "2021-11-11T14:28:40.025420",
     "exception": false,
     "start_time": "2021-11-11T14:28:39.976618",
     "status": "completed"
    },
    "tags": []
   },
   "source": [
    "If I leave out the end index, it's assumed to be the length of the list."
   ]
  },
  {
   "cell_type": "code",
   "execution_count": 11,
   "id": "3a056f41",
   "metadata": {
    "execution": {
     "iopub.execute_input": "2021-11-11T14:28:40.127049Z",
     "iopub.status.busy": "2021-11-11T14:28:40.126363Z",
     "iopub.status.idle": "2021-11-11T14:28:40.131516Z",
     "shell.execute_reply": "2021-11-11T14:28:40.132094Z"
    },
    "papermill": {
     "duration": 0.057809,
     "end_time": "2021-11-11T14:28:40.132256",
     "exception": false,
     "start_time": "2021-11-11T14:28:40.074447",
     "status": "completed"
    },
    "tags": []
   },
   "outputs": [
    {
     "data": {
      "text/plain": [
       "['Mars', 'Jupiter', 'Saturn', 'Uranus', 'Neptune']"
      ]
     },
     "execution_count": 11,
     "metadata": {},
     "output_type": "execute_result"
    }
   ],
   "source": [
    "planets[3:]"
   ]
  },
  {
   "cell_type": "markdown",
   "id": "d9ac22e7",
   "metadata": {
    "papermill": {
     "duration": 0.046133,
     "end_time": "2021-11-11T14:28:40.228153",
     "exception": false,
     "start_time": "2021-11-11T14:28:40.182020",
     "status": "completed"
    },
    "tags": []
   },
   "source": [
    "i.e. the expression above means \"give me all the planets from index 3 onward\".\n",
    "\n",
    "We can also use negative indices when slicing:"
   ]
  },
  {
   "cell_type": "code",
   "execution_count": 12,
   "id": "ae4577ca",
   "metadata": {
    "execution": {
     "iopub.execute_input": "2021-11-11T14:28:40.324102Z",
     "iopub.status.busy": "2021-11-11T14:28:40.323474Z",
     "iopub.status.idle": "2021-11-11T14:28:40.328884Z",
     "shell.execute_reply": "2021-11-11T14:28:40.329346Z"
    },
    "papermill": {
     "duration": 0.055181,
     "end_time": "2021-11-11T14:28:40.329488",
     "exception": false,
     "start_time": "2021-11-11T14:28:40.274307",
     "status": "completed"
    },
    "tags": []
   },
   "outputs": [
    {
     "data": {
      "text/plain": [
       "['Venus', 'Earth', 'Mars', 'Jupiter', 'Saturn', 'Uranus']"
      ]
     },
     "execution_count": 12,
     "metadata": {},
     "output_type": "execute_result"
    }
   ],
   "source": [
    "# All the planets except the first and last\n",
    "planets[1:-1]"
   ]
  },
  {
   "cell_type": "code",
   "execution_count": 13,
   "id": "3d1ec3af",
   "metadata": {
    "execution": {
     "iopub.execute_input": "2021-11-11T14:28:40.428903Z",
     "iopub.status.busy": "2021-11-11T14:28:40.428223Z",
     "iopub.status.idle": "2021-11-11T14:28:40.433298Z",
     "shell.execute_reply": "2021-11-11T14:28:40.433846Z"
    },
    "papermill": {
     "duration": 0.056956,
     "end_time": "2021-11-11T14:28:40.434081",
     "exception": false,
     "start_time": "2021-11-11T14:28:40.377125",
     "status": "completed"
    },
    "tags": []
   },
   "outputs": [
    {
     "data": {
      "text/plain": [
       "['Saturn', 'Uranus', 'Neptune']"
      ]
     },
     "execution_count": 13,
     "metadata": {},
     "output_type": "execute_result"
    }
   ],
   "source": [
    "# The last 3 planets\n",
    "planets[-3:]"
   ]
  },
  {
   "cell_type": "markdown",
   "id": "bc5105e9",
   "metadata": {
    "papermill": {
     "duration": 0.045835,
     "end_time": "2021-11-11T14:28:40.527142",
     "exception": false,
     "start_time": "2021-11-11T14:28:40.481307",
     "status": "completed"
    },
    "tags": []
   },
   "source": [
    "## Changing lists\n",
    "\n",
    "Lists are \"mutable\", meaning they can be modified \"in place\".\n",
    "\n",
    "One way to modify a list is to assign to an index or slice expression.\n",
    "\n",
    "For example, let's say we want to rename Mars:"
   ]
  },
  {
   "cell_type": "code",
   "execution_count": 14,
   "id": "4a3f37fc",
   "metadata": {
    "execution": {
     "iopub.execute_input": "2021-11-11T14:28:40.625474Z",
     "iopub.status.busy": "2021-11-11T14:28:40.622843Z",
     "iopub.status.idle": "2021-11-11T14:28:40.628617Z",
     "shell.execute_reply": "2021-11-11T14:28:40.629097Z"
    },
    "papermill": {
     "duration": 0.055504,
     "end_time": "2021-11-11T14:28:40.629280",
     "exception": false,
     "start_time": "2021-11-11T14:28:40.573776",
     "status": "completed"
    },
    "tags": []
   },
   "outputs": [
    {
     "data": {
      "text/plain": [
       "['Mercury',\n",
       " 'Venus',\n",
       " 'Earth',\n",
       " 'Malacandra',\n",
       " 'Jupiter',\n",
       " 'Saturn',\n",
       " 'Uranus',\n",
       " 'Neptune']"
      ]
     },
     "execution_count": 14,
     "metadata": {},
     "output_type": "execute_result"
    }
   ],
   "source": [
    "planets[3] = 'Malacandra'\n",
    "planets"
   ]
  },
  {
   "cell_type": "markdown",
   "id": "91bcc8f2",
   "metadata": {
    "papermill": {
     "duration": 0.048085,
     "end_time": "2021-11-11T14:28:40.724102",
     "exception": false,
     "start_time": "2021-11-11T14:28:40.676017",
     "status": "completed"
    },
    "tags": []
   },
   "source": [
    "Hm, that's quite a mouthful. Let's compensate by shortening the names of the first 3 planets."
   ]
  },
  {
   "cell_type": "code",
   "execution_count": 15,
   "id": "c4d8cf4f",
   "metadata": {
    "execution": {
     "iopub.execute_input": "2021-11-11T14:28:40.826786Z",
     "iopub.status.busy": "2021-11-11T14:28:40.825979Z",
     "iopub.status.idle": "2021-11-11T14:28:40.828957Z",
     "shell.execute_reply": "2021-11-11T14:28:40.829426Z"
    },
    "papermill": {
     "duration": 0.056228,
     "end_time": "2021-11-11T14:28:40.829590",
     "exception": false,
     "start_time": "2021-11-11T14:28:40.773362",
     "status": "completed"
    },
    "tags": []
   },
   "outputs": [
    {
     "name": "stdout",
     "output_type": "stream",
     "text": [
      "['Mur', 'Vee', 'Ur', 'Malacandra', 'Jupiter', 'Saturn', 'Uranus', 'Neptune']\n"
     ]
    }
   ],
   "source": [
    "planets[:3] = ['Mur', 'Vee', 'Ur']\n",
    "print(planets)\n",
    "# That was silly. Let's give them back their old names\n",
    "planets[:4] = ['Mercury', 'Venus', 'Earth', 'Mars',]"
   ]
  },
  {
   "cell_type": "markdown",
   "id": "b469093b",
   "metadata": {
    "papermill": {
     "duration": 0.048856,
     "end_time": "2021-11-11T14:28:40.925034",
     "exception": false,
     "start_time": "2021-11-11T14:28:40.876178",
     "status": "completed"
    },
    "tags": []
   },
   "source": [
    "## List functions\n",
    "\n",
    "Python has several useful functions for working with lists.\n",
    "\n",
    "`len` gives the length of a list:"
   ]
  },
  {
   "cell_type": "code",
   "execution_count": 16,
   "id": "e1d04307",
   "metadata": {
    "execution": {
     "iopub.execute_input": "2021-11-11T14:28:41.027792Z",
     "iopub.status.busy": "2021-11-11T14:28:41.026854Z",
     "iopub.status.idle": "2021-11-11T14:28:41.031641Z",
     "shell.execute_reply": "2021-11-11T14:28:41.032207Z"
    },
    "papermill": {
     "duration": 0.057146,
     "end_time": "2021-11-11T14:28:41.032365",
     "exception": false,
     "start_time": "2021-11-11T14:28:40.975219",
     "status": "completed"
    },
    "tags": []
   },
   "outputs": [
    {
     "data": {
      "text/plain": [
       "8"
      ]
     },
     "execution_count": 16,
     "metadata": {},
     "output_type": "execute_result"
    }
   ],
   "source": [
    "# How many planets are there?\n",
    "len(planets)"
   ]
  },
  {
   "cell_type": "markdown",
   "id": "7ddee700",
   "metadata": {
    "papermill": {
     "duration": 0.049267,
     "end_time": "2021-11-11T14:28:41.131463",
     "exception": false,
     "start_time": "2021-11-11T14:28:41.082196",
     "status": "completed"
    },
    "tags": []
   },
   "source": [
    "`sorted` returns a sorted version of a list:"
   ]
  },
  {
   "cell_type": "code",
   "execution_count": 17,
   "id": "6db35848",
   "metadata": {
    "execution": {
     "iopub.execute_input": "2021-11-11T14:28:41.234772Z",
     "iopub.status.busy": "2021-11-11T14:28:41.233861Z",
     "iopub.status.idle": "2021-11-11T14:28:41.239139Z",
     "shell.execute_reply": "2021-11-11T14:28:41.239702Z"
    },
    "papermill": {
     "duration": 0.058669,
     "end_time": "2021-11-11T14:28:41.239856",
     "exception": false,
     "start_time": "2021-11-11T14:28:41.181187",
     "status": "completed"
    },
    "tags": []
   },
   "outputs": [
    {
     "data": {
      "text/plain": [
       "['Earth', 'Jupiter', 'Mars', 'Mercury', 'Neptune', 'Saturn', 'Uranus', 'Venus']"
      ]
     },
     "execution_count": 17,
     "metadata": {},
     "output_type": "execute_result"
    }
   ],
   "source": [
    "# The planets sorted in alphabetical order\n",
    "sorted(planets)"
   ]
  },
  {
   "cell_type": "markdown",
   "id": "23f78893",
   "metadata": {
    "papermill": {
     "duration": 0.049153,
     "end_time": "2021-11-11T14:28:41.338935",
     "exception": false,
     "start_time": "2021-11-11T14:28:41.289782",
     "status": "completed"
    },
    "tags": []
   },
   "source": [
    "`sum` does what you might expect:"
   ]
  },
  {
   "cell_type": "code",
   "execution_count": 18,
   "id": "1c1f3df1",
   "metadata": {
    "execution": {
     "iopub.execute_input": "2021-11-11T14:28:41.439934Z",
     "iopub.status.busy": "2021-11-11T14:28:41.438922Z",
     "iopub.status.idle": "2021-11-11T14:28:41.444359Z",
     "shell.execute_reply": "2021-11-11T14:28:41.444873Z"
    },
    "papermill": {
     "duration": 0.05757,
     "end_time": "2021-11-11T14:28:41.445046",
     "exception": false,
     "start_time": "2021-11-11T14:28:41.387476",
     "status": "completed"
    },
    "tags": []
   },
   "outputs": [
    {
     "data": {
      "text/plain": [
       "17"
      ]
     },
     "execution_count": 18,
     "metadata": {},
     "output_type": "execute_result"
    }
   ],
   "source": [
    "primes = [2, 3, 5, 7]\n",
    "sum(primes)"
   ]
  },
  {
   "cell_type": "markdown",
   "id": "1e9a8581",
   "metadata": {
    "papermill": {
     "duration": 0.049686,
     "end_time": "2021-11-11T14:28:41.544054",
     "exception": false,
     "start_time": "2021-11-11T14:28:41.494368",
     "status": "completed"
    },
    "tags": []
   },
   "source": [
    "We've previously used the `min` and `max` to get the minimum or maximum of several arguments. But we can also pass in a single list argument."
   ]
  },
  {
   "cell_type": "code",
   "execution_count": 19,
   "id": "f1fac119",
   "metadata": {
    "execution": {
     "iopub.execute_input": "2021-11-11T14:28:41.647314Z",
     "iopub.status.busy": "2021-11-11T14:28:41.646320Z",
     "iopub.status.idle": "2021-11-11T14:28:41.651951Z",
     "shell.execute_reply": "2021-11-11T14:28:41.652532Z"
    },
    "papermill": {
     "duration": 0.059059,
     "end_time": "2021-11-11T14:28:41.652684",
     "exception": false,
     "start_time": "2021-11-11T14:28:41.593625",
     "status": "completed"
    },
    "tags": []
   },
   "outputs": [
    {
     "data": {
      "text/plain": [
       "7"
      ]
     },
     "execution_count": 19,
     "metadata": {},
     "output_type": "execute_result"
    }
   ],
   "source": [
    "max(primes)"
   ]
  },
  {
   "cell_type": "markdown",
   "id": "619460db",
   "metadata": {
    "papermill": {
     "duration": 0.050321,
     "end_time": "2021-11-11T14:28:41.752852",
     "exception": false,
     "start_time": "2021-11-11T14:28:41.702531",
     "status": "completed"
    },
    "tags": []
   },
   "source": [
    "## Interlude: objects\n",
    "\n",
    "I've used the term 'object' a lot so far - you may have even read that *everything* in Python is an object. What does that mean?\n",
    "\n",
    "In short, objects carry some things around with them. You access that stuff using Python's dot syntax.\n",
    "\n",
    "For example, numbers in Python carry around an associated variable called `imag` representing their imaginary part. (You'll probably never need to use this unless you're doing some very weird math.)"
   ]
  },
  {
   "cell_type": "code",
   "execution_count": 20,
   "id": "cfaa1a3a",
   "metadata": {
    "execution": {
     "iopub.execute_input": "2021-11-11T14:28:41.856721Z",
     "iopub.status.busy": "2021-11-11T14:28:41.855773Z",
     "iopub.status.idle": "2021-11-11T14:28:41.860779Z",
     "shell.execute_reply": "2021-11-11T14:28:41.861316Z"
    },
    "papermill": {
     "duration": 0.058885,
     "end_time": "2021-11-11T14:28:41.861499",
     "exception": false,
     "start_time": "2021-11-11T14:28:41.802614",
     "status": "completed"
    },
    "tags": []
   },
   "outputs": [
    {
     "name": "stdout",
     "output_type": "stream",
     "text": [
      "0\n",
      "3.0\n"
     ]
    }
   ],
   "source": [
    "x = 12\n",
    "# x is a real number, so its imaginary part is 0.\n",
    "print(x.imag)\n",
    "# Here's how to make a complex number, in case you've ever been curious:\n",
    "c = 12 + 3j\n",
    "print(c.imag)"
   ]
  },
  {
   "cell_type": "markdown",
   "id": "3cf43217",
   "metadata": {
    "papermill": {
     "duration": 0.050182,
     "end_time": "2021-11-11T14:28:41.962736",
     "exception": false,
     "start_time": "2021-11-11T14:28:41.912554",
     "status": "completed"
    },
    "tags": []
   },
   "source": [
    "The things an object carries around can also include functions. A function attached to an object is called a **method**. (Non-function things attached to an object, such as `imag`, are called *attributes*).\n",
    "\n",
    "For example, numbers have a method called `bit_length`. Again, we access it using dot syntax:"
   ]
  },
  {
   "cell_type": "code",
   "execution_count": 21,
   "id": "2e846df5",
   "metadata": {
    "execution": {
     "iopub.execute_input": "2021-11-11T14:28:42.072636Z",
     "iopub.status.busy": "2021-11-11T14:28:42.071732Z",
     "iopub.status.idle": "2021-11-11T14:28:42.075050Z",
     "shell.execute_reply": "2021-11-11T14:28:42.075576Z"
    },
    "papermill": {
     "duration": 0.061357,
     "end_time": "2021-11-11T14:28:42.075744",
     "exception": false,
     "start_time": "2021-11-11T14:28:42.014387",
     "status": "completed"
    },
    "tags": []
   },
   "outputs": [
    {
     "data": {
      "text/plain": [
       "<function int.bit_length()>"
      ]
     },
     "execution_count": 21,
     "metadata": {},
     "output_type": "execute_result"
    }
   ],
   "source": [
    "x.bit_length"
   ]
  },
  {
   "cell_type": "markdown",
   "id": "f5693b06",
   "metadata": {
    "papermill": {
     "duration": 0.050836,
     "end_time": "2021-11-11T14:28:42.178282",
     "exception": false,
     "start_time": "2021-11-11T14:28:42.127446",
     "status": "completed"
    },
    "tags": []
   },
   "source": [
    "To actually call it, we add parentheses:"
   ]
  },
  {
   "cell_type": "code",
   "execution_count": 22,
   "id": "c7a57909",
   "metadata": {
    "execution": {
     "iopub.execute_input": "2021-11-11T14:28:42.283988Z",
     "iopub.status.busy": "2021-11-11T14:28:42.282994Z",
     "iopub.status.idle": "2021-11-11T14:28:42.288466Z",
     "shell.execute_reply": "2021-11-11T14:28:42.289015Z"
    },
    "papermill": {
     "duration": 0.060028,
     "end_time": "2021-11-11T14:28:42.289171",
     "exception": false,
     "start_time": "2021-11-11T14:28:42.229143",
     "status": "completed"
    },
    "tags": []
   },
   "outputs": [
    {
     "data": {
      "text/plain": [
       "4"
      ]
     },
     "execution_count": 22,
     "metadata": {},
     "output_type": "execute_result"
    }
   ],
   "source": [
    "x.bit_length()"
   ]
  },
  {
   "cell_type": "markdown",
   "id": "21650754",
   "metadata": {
    "papermill": {
     "duration": 0.050703,
     "end_time": "2021-11-11T14:28:42.391224",
     "exception": false,
     "start_time": "2021-11-11T14:28:42.340521",
     "status": "completed"
    },
    "tags": []
   },
   "source": [
    "> **Aside:** You've actually been calling methods already if you've been doing the exercises. In the exercise notebooks `q1`, `q2`, `q3`, etc. are all objects which have methods called `check`, `hint`, and `solution`.\n",
    "\n",
    "In the same way that we can pass functions to the `help` function (e.g. `help(max)`), we can also pass in methods:"
   ]
  },
  {
   "cell_type": "code",
   "execution_count": 23,
   "id": "c094b535",
   "metadata": {
    "execution": {
     "iopub.execute_input": "2021-11-11T14:28:42.497178Z",
     "iopub.status.busy": "2021-11-11T14:28:42.496217Z",
     "iopub.status.idle": "2021-11-11T14:28:42.501642Z",
     "shell.execute_reply": "2021-11-11T14:28:42.502286Z"
    },
    "papermill": {
     "duration": 0.059591,
     "end_time": "2021-11-11T14:28:42.502458",
     "exception": false,
     "start_time": "2021-11-11T14:28:42.442867",
     "status": "completed"
    },
    "tags": []
   },
   "outputs": [
    {
     "name": "stdout",
     "output_type": "stream",
     "text": [
      "Help on built-in function bit_length:\n",
      "\n",
      "bit_length() method of builtins.int instance\n",
      "    Number of bits necessary to represent self in binary.\n",
      "    \n",
      "    >>> bin(37)\n",
      "    '0b100101'\n",
      "    >>> (37).bit_length()\n",
      "    6\n",
      "\n"
     ]
    }
   ],
   "source": [
    "help(x.bit_length)"
   ]
  },
  {
   "cell_type": "markdown",
   "id": "7ab81a15",
   "metadata": {
    "papermill": {
     "duration": 0.051409,
     "end_time": "2021-11-11T14:28:42.605464",
     "exception": false,
     "start_time": "2021-11-11T14:28:42.554055",
     "status": "completed"
    },
    "tags": []
   },
   "source": [
    "<!-- TODO:\n",
    "dir?\n",
    "A useful builtin method for interacting with objects is `dir`. `dir` asks: what are the names of all the things (methods, and attributes) that this object is carrying around?\n",
    "help(x)?\n",
    "-->\n",
    "\n",
    "The examples above were utterly obscure. None of the types of objects we've looked at so far (numbers, functions, booleans) have attributes or methods you're likely ever to use.\n",
    "\n",
    "But it turns out that lists have several methods which you'll use all the time."
   ]
  },
  {
   "cell_type": "markdown",
   "id": "c2d8f22b",
   "metadata": {
    "papermill": {
     "duration": 0.052073,
     "end_time": "2021-11-11T14:28:42.709477",
     "exception": false,
     "start_time": "2021-11-11T14:28:42.657404",
     "status": "completed"
    },
    "tags": []
   },
   "source": [
    "## List methods"
   ]
  },
  {
   "cell_type": "markdown",
   "id": "7c17f6a6",
   "metadata": {
    "papermill": {
     "duration": 0.056646,
     "end_time": "2021-11-11T14:28:42.819667",
     "exception": false,
     "start_time": "2021-11-11T14:28:42.763021",
     "status": "completed"
    },
    "tags": []
   },
   "source": [
    "`list.append` modifies a list by adding an item to the end:"
   ]
  },
  {
   "cell_type": "code",
   "execution_count": 24,
   "id": "e3993ca2",
   "metadata": {
    "collapsed": true,
    "execution": {
     "iopub.execute_input": "2021-11-11T14:28:42.930684Z",
     "iopub.status.busy": "2021-11-11T14:28:42.929621Z",
     "iopub.status.idle": "2021-11-11T14:28:42.932191Z",
     "shell.execute_reply": "2021-11-11T14:28:42.932736Z"
    },
    "papermill": {
     "duration": 0.060101,
     "end_time": "2021-11-11T14:28:42.932944",
     "exception": false,
     "start_time": "2021-11-11T14:28:42.872843",
     "status": "completed"
    },
    "tags": []
   },
   "outputs": [],
   "source": [
    "# Pluto is a planet darn it!\n",
    "planets.append('Pluto')"
   ]
  },
  {
   "cell_type": "markdown",
   "id": "79a59431",
   "metadata": {
    "papermill": {
     "duration": 0.053563,
     "end_time": "2021-11-11T14:28:43.040576",
     "exception": false,
     "start_time": "2021-11-11T14:28:42.987013",
     "status": "completed"
    },
    "tags": []
   },
   "source": [
    "Why does the cell above have no output? Let's check the documentation by calling `help(planets.append)`.\n",
    "\n",
    "> **Aside:** `append` is a method carried around by *all* objects of type list, not just `planets`, so we also could have called `help(list.append)`. However, if we try to call `help(append)`, Python will complain that no variable exists called \"append\". The \"append\" name only exists within lists - it doesn't exist as a standalone name like builtin functions such as `max` or `len`."
   ]
  },
  {
   "cell_type": "code",
   "execution_count": 25,
   "id": "b9eaa201",
   "metadata": {
    "execution": {
     "iopub.execute_input": "2021-11-11T14:28:43.150890Z",
     "iopub.status.busy": "2021-11-11T14:28:43.150105Z",
     "iopub.status.idle": "2021-11-11T14:28:43.153249Z",
     "shell.execute_reply": "2021-11-11T14:28:43.153860Z"
    },
    "papermill": {
     "duration": 0.060826,
     "end_time": "2021-11-11T14:28:43.154058",
     "exception": false,
     "start_time": "2021-11-11T14:28:43.093232",
     "status": "completed"
    },
    "tags": []
   },
   "outputs": [
    {
     "name": "stdout",
     "output_type": "stream",
     "text": [
      "Help on built-in function append:\n",
      "\n",
      "append(object, /) method of builtins.list instance\n",
      "    Append object to the end of the list.\n",
      "\n"
     ]
    }
   ],
   "source": [
    "help(planets.append)"
   ]
  },
  {
   "cell_type": "markdown",
   "id": "66878276",
   "metadata": {
    "papermill": {
     "duration": 0.051882,
     "end_time": "2021-11-11T14:28:43.259051",
     "exception": false,
     "start_time": "2021-11-11T14:28:43.207169",
     "status": "completed"
    },
    "tags": []
   },
   "source": [
    "The `-> None` part is telling us that `list.append` doesn't return anything. But if we check the value of `planets`, we can see that the method call modified the value of `planets`:"
   ]
  },
  {
   "cell_type": "code",
   "execution_count": 26,
   "id": "40225918",
   "metadata": {
    "execution": {
     "iopub.execute_input": "2021-11-11T14:28:43.366879Z",
     "iopub.status.busy": "2021-11-11T14:28:43.366288Z",
     "iopub.status.idle": "2021-11-11T14:28:43.371353Z",
     "shell.execute_reply": "2021-11-11T14:28:43.371943Z"
    },
    "papermill": {
     "duration": 0.060789,
     "end_time": "2021-11-11T14:28:43.372119",
     "exception": false,
     "start_time": "2021-11-11T14:28:43.311330",
     "status": "completed"
    },
    "tags": []
   },
   "outputs": [
    {
     "data": {
      "text/plain": [
       "['Mercury',\n",
       " 'Venus',\n",
       " 'Earth',\n",
       " 'Mars',\n",
       " 'Jupiter',\n",
       " 'Saturn',\n",
       " 'Uranus',\n",
       " 'Neptune',\n",
       " 'Pluto']"
      ]
     },
     "execution_count": 26,
     "metadata": {},
     "output_type": "execute_result"
    }
   ],
   "source": [
    "planets"
   ]
  },
  {
   "cell_type": "markdown",
   "id": "09b4abf8",
   "metadata": {
    "papermill": {
     "duration": 0.052183,
     "end_time": "2021-11-11T14:28:43.476560",
     "exception": false,
     "start_time": "2021-11-11T14:28:43.424377",
     "status": "completed"
    },
    "tags": []
   },
   "source": [
    "`list.pop` removes and returns the last element of a list:"
   ]
  },
  {
   "cell_type": "code",
   "execution_count": 27,
   "id": "c7d356d8",
   "metadata": {
    "execution": {
     "iopub.execute_input": "2021-11-11T14:28:43.583689Z",
     "iopub.status.busy": "2021-11-11T14:28:43.582733Z",
     "iopub.status.idle": "2021-11-11T14:28:43.587599Z",
     "shell.execute_reply": "2021-11-11T14:28:43.588131Z"
    },
    "papermill": {
     "duration": 0.059715,
     "end_time": "2021-11-11T14:28:43.588276",
     "exception": false,
     "start_time": "2021-11-11T14:28:43.528561",
     "status": "completed"
    },
    "tags": []
   },
   "outputs": [
    {
     "data": {
      "text/plain": [
       "'Pluto'"
      ]
     },
     "execution_count": 27,
     "metadata": {},
     "output_type": "execute_result"
    }
   ],
   "source": [
    "planets.pop()"
   ]
  },
  {
   "cell_type": "code",
   "execution_count": 28,
   "id": "d9646c87",
   "metadata": {
    "execution": {
     "iopub.execute_input": "2021-11-11T14:28:43.697446Z",
     "iopub.status.busy": "2021-11-11T14:28:43.696489Z",
     "iopub.status.idle": "2021-11-11T14:28:43.701425Z",
     "shell.execute_reply": "2021-11-11T14:28:43.701894Z"
    },
    "papermill": {
     "duration": 0.061323,
     "end_time": "2021-11-11T14:28:43.702078",
     "exception": false,
     "start_time": "2021-11-11T14:28:43.640755",
     "status": "completed"
    },
    "tags": []
   },
   "outputs": [
    {
     "data": {
      "text/plain": [
       "['Mercury', 'Venus', 'Earth', 'Mars', 'Jupiter', 'Saturn', 'Uranus', 'Neptune']"
      ]
     },
     "execution_count": 28,
     "metadata": {},
     "output_type": "execute_result"
    }
   ],
   "source": [
    "planets"
   ]
  },
  {
   "cell_type": "markdown",
   "id": "ba9dd3e9",
   "metadata": {
    "papermill": {
     "duration": 0.054776,
     "end_time": "2021-11-11T14:28:43.810368",
     "exception": false,
     "start_time": "2021-11-11T14:28:43.755592",
     "status": "completed"
    },
    "tags": []
   },
   "source": [
    "### Searching lists\n",
    "\n",
    "Where does Earth fall in the order of planets? We can get its index using the `list.index` method."
   ]
  },
  {
   "cell_type": "code",
   "execution_count": 29,
   "id": "907583f6",
   "metadata": {
    "execution": {
     "iopub.execute_input": "2021-11-11T14:28:43.924255Z",
     "iopub.status.busy": "2021-11-11T14:28:43.923392Z",
     "iopub.status.idle": "2021-11-11T14:28:43.926434Z",
     "shell.execute_reply": "2021-11-11T14:28:43.926901Z"
    },
    "papermill": {
     "duration": 0.062654,
     "end_time": "2021-11-11T14:28:43.927105",
     "exception": false,
     "start_time": "2021-11-11T14:28:43.864451",
     "status": "completed"
    },
    "tags": []
   },
   "outputs": [
    {
     "data": {
      "text/plain": [
       "2"
      ]
     },
     "execution_count": 29,
     "metadata": {},
     "output_type": "execute_result"
    }
   ],
   "source": [
    "planets.index('Earth')"
   ]
  },
  {
   "cell_type": "markdown",
   "id": "10fa35b6",
   "metadata": {
    "papermill": {
     "duration": 0.05356,
     "end_time": "2021-11-11T14:28:44.035575",
     "exception": false,
     "start_time": "2021-11-11T14:28:43.982015",
     "status": "completed"
    },
    "tags": []
   },
   "source": [
    "It comes third (i.e. at index 2 - 0 indexing!).\n",
    "\n",
    "At what index does Pluto occur?"
   ]
  },
  {
   "cell_type": "code",
   "execution_count": 30,
   "id": "cc3a36f7",
   "metadata": {
    "execution": {
     "iopub.execute_input": "2021-11-11T14:28:44.152698Z",
     "iopub.status.busy": "2021-11-11T14:28:44.152087Z",
     "iopub.status.idle": "2021-11-11T14:28:44.216407Z",
     "shell.execute_reply": "2021-11-11T14:28:44.215898Z"
    },
    "papermill": {
     "duration": 0.124958,
     "end_time": "2021-11-11T14:28:44.216550",
     "exception": false,
     "start_time": "2021-11-11T14:28:44.091592",
     "status": "completed"
    },
    "tags": [
     "raises-exception"
    ]
   },
   "outputs": [
    {
     "ename": "ValueError",
     "evalue": "'Pluto' is not in list",
     "output_type": "error",
     "traceback": [
      "\u001b[0;31m---------------------------------------------------------------------------\u001b[0m",
      "\u001b[0;31mValueError\u001b[0m                                Traceback (most recent call last)",
      "\u001b[0;32m/tmp/ipykernel_20/2263615293.py\u001b[0m in \u001b[0;36m<module>\u001b[0;34m\u001b[0m\n\u001b[0;32m----> 1\u001b[0;31m \u001b[0mplanets\u001b[0m\u001b[0;34m.\u001b[0m\u001b[0mindex\u001b[0m\u001b[0;34m(\u001b[0m\u001b[0;34m'Pluto'\u001b[0m\u001b[0;34m)\u001b[0m\u001b[0;34m\u001b[0m\u001b[0;34m\u001b[0m\u001b[0m\n\u001b[0m",
      "\u001b[0;31mValueError\u001b[0m: 'Pluto' is not in list"
     ]
    }
   ],
   "source": [
    "planets.index('Pluto')"
   ]
  },
  {
   "cell_type": "markdown",
   "id": "9cce7c87",
   "metadata": {
    "papermill": {
     "duration": 0.053586,
     "end_time": "2021-11-11T14:28:44.323722",
     "exception": false,
     "start_time": "2021-11-11T14:28:44.270136",
     "status": "completed"
    },
    "tags": []
   },
   "source": [
    "Oh, that's right...\n",
    "\n",
    "To avoid unpleasant surprises like this, we can use the `in` operator to determine whether a list contains a particular value:"
   ]
  },
  {
   "cell_type": "code",
   "execution_count": 31,
   "id": "dd359982",
   "metadata": {
    "collapsed": true,
    "execution": {
     "iopub.execute_input": "2021-11-11T14:28:44.437799Z",
     "iopub.status.busy": "2021-11-11T14:28:44.437099Z",
     "iopub.status.idle": "2021-11-11T14:28:44.440085Z",
     "shell.execute_reply": "2021-11-11T14:28:44.440554Z"
    },
    "papermill": {
     "duration": 0.063379,
     "end_time": "2021-11-11T14:28:44.440721",
     "exception": false,
     "start_time": "2021-11-11T14:28:44.377342",
     "status": "completed"
    },
    "tags": []
   },
   "outputs": [
    {
     "data": {
      "text/plain": [
       "True"
      ]
     },
     "execution_count": 31,
     "metadata": {},
     "output_type": "execute_result"
    }
   ],
   "source": [
    "# Is Earth a planet?\n",
    "\"Earth\" in planets"
   ]
  },
  {
   "cell_type": "code",
   "execution_count": 32,
   "id": "b05b5563",
   "metadata": {
    "collapsed": true,
    "execution": {
     "iopub.execute_input": "2021-11-11T14:28:44.555958Z",
     "iopub.status.busy": "2021-11-11T14:28:44.555322Z",
     "iopub.status.idle": "2021-11-11T14:28:44.557651Z",
     "shell.execute_reply": "2021-11-11T14:28:44.558113Z"
    },
    "papermill": {
     "duration": 0.062325,
     "end_time": "2021-11-11T14:28:44.558268",
     "exception": false,
     "start_time": "2021-11-11T14:28:44.495943",
     "status": "completed"
    },
    "tags": []
   },
   "outputs": [
    {
     "data": {
      "text/plain": [
       "False"
      ]
     },
     "execution_count": 32,
     "metadata": {},
     "output_type": "execute_result"
    }
   ],
   "source": [
    "# Is Calbefraques a planet?\n",
    "\"Calbefraques\" in planets"
   ]
  },
  {
   "cell_type": "markdown",
   "id": "2afe6b2c",
   "metadata": {
    "papermill": {
     "duration": 0.056399,
     "end_time": "2021-11-11T14:28:44.670014",
     "exception": false,
     "start_time": "2021-11-11T14:28:44.613615",
     "status": "completed"
    },
    "tags": []
   },
   "source": [
    "There are a few more interesting list methods we haven't covered. If you want to learn about all the methods and attributes attached to a particular object, we can call `help()` on the object itself. For example, `help(planets)` will tell us about *all* the list methods: "
   ]
  },
  {
   "cell_type": "code",
   "execution_count": 33,
   "id": "b69fd631",
   "metadata": {
    "_kg_hide-output": true,
    "execution": {
     "iopub.execute_input": "2021-11-11T14:28:44.786902Z",
     "iopub.status.busy": "2021-11-11T14:28:44.786282Z",
     "iopub.status.idle": "2021-11-11T14:28:44.805523Z",
     "shell.execute_reply": "2021-11-11T14:28:44.806074Z"
    },
    "papermill": {
     "duration": 0.079376,
     "end_time": "2021-11-11T14:28:44.806239",
     "exception": false,
     "start_time": "2021-11-11T14:28:44.726863",
     "status": "completed"
    },
    "tags": []
   },
   "outputs": [
    {
     "name": "stdout",
     "output_type": "stream",
     "text": [
      "Help on list object:\n",
      "\n",
      "class list(object)\n",
      " |  list(iterable=(), /)\n",
      " |  \n",
      " |  Built-in mutable sequence.\n",
      " |  \n",
      " |  If no argument is given, the constructor creates a new empty list.\n",
      " |  The argument must be an iterable if specified.\n",
      " |  \n",
      " |  Methods defined here:\n",
      " |  \n",
      " |  __add__(self, value, /)\n",
      " |      Return self+value.\n",
      " |  \n",
      " |  __contains__(self, key, /)\n",
      " |      Return key in self.\n",
      " |  \n",
      " |  __delitem__(self, key, /)\n",
      " |      Delete self[key].\n",
      " |  \n",
      " |  __eq__(self, value, /)\n",
      " |      Return self==value.\n",
      " |  \n",
      " |  __ge__(self, value, /)\n",
      " |      Return self>=value.\n",
      " |  \n",
      " |  __getattribute__(self, name, /)\n",
      " |      Return getattr(self, name).\n",
      " |  \n",
      " |  __getitem__(...)\n",
      " |      x.__getitem__(y) <==> x[y]\n",
      " |  \n",
      " |  __gt__(self, value, /)\n",
      " |      Return self>value.\n",
      " |  \n",
      " |  __iadd__(self, value, /)\n",
      " |      Implement self+=value.\n",
      " |  \n",
      " |  __imul__(self, value, /)\n",
      " |      Implement self*=value.\n",
      " |  \n",
      " |  __init__(self, /, *args, **kwargs)\n",
      " |      Initialize self.  See help(type(self)) for accurate signature.\n",
      " |  \n",
      " |  __iter__(self, /)\n",
      " |      Implement iter(self).\n",
      " |  \n",
      " |  __le__(self, value, /)\n",
      " |      Return self<=value.\n",
      " |  \n",
      " |  __len__(self, /)\n",
      " |      Return len(self).\n",
      " |  \n",
      " |  __lt__(self, value, /)\n",
      " |      Return self<value.\n",
      " |  \n",
      " |  __mul__(self, value, /)\n",
      " |      Return self*value.\n",
      " |  \n",
      " |  __ne__(self, value, /)\n",
      " |      Return self!=value.\n",
      " |  \n",
      " |  __repr__(self, /)\n",
      " |      Return repr(self).\n",
      " |  \n",
      " |  __reversed__(self, /)\n",
      " |      Return a reverse iterator over the list.\n",
      " |  \n",
      " |  __rmul__(self, value, /)\n",
      " |      Return value*self.\n",
      " |  \n",
      " |  __setitem__(self, key, value, /)\n",
      " |      Set self[key] to value.\n",
      " |  \n",
      " |  __sizeof__(self, /)\n",
      " |      Return the size of the list in memory, in bytes.\n",
      " |  \n",
      " |  append(self, object, /)\n",
      " |      Append object to the end of the list.\n",
      " |  \n",
      " |  clear(self, /)\n",
      " |      Remove all items from list.\n",
      " |  \n",
      " |  copy(self, /)\n",
      " |      Return a shallow copy of the list.\n",
      " |  \n",
      " |  count(self, value, /)\n",
      " |      Return number of occurrences of value.\n",
      " |  \n",
      " |  extend(self, iterable, /)\n",
      " |      Extend list by appending elements from the iterable.\n",
      " |  \n",
      " |  index(self, value, start=0, stop=9223372036854775807, /)\n",
      " |      Return first index of value.\n",
      " |      \n",
      " |      Raises ValueError if the value is not present.\n",
      " |  \n",
      " |  insert(self, index, object, /)\n",
      " |      Insert object before index.\n",
      " |  \n",
      " |  pop(self, index=-1, /)\n",
      " |      Remove and return item at index (default last).\n",
      " |      \n",
      " |      Raises IndexError if list is empty or index is out of range.\n",
      " |  \n",
      " |  remove(self, value, /)\n",
      " |      Remove first occurrence of value.\n",
      " |      \n",
      " |      Raises ValueError if the value is not present.\n",
      " |  \n",
      " |  reverse(self, /)\n",
      " |      Reverse *IN PLACE*.\n",
      " |  \n",
      " |  sort(self, /, *, key=None, reverse=False)\n",
      " |      Stable sort *IN PLACE*.\n",
      " |  \n",
      " |  ----------------------------------------------------------------------\n",
      " |  Static methods defined here:\n",
      " |  \n",
      " |  __new__(*args, **kwargs) from builtins.type\n",
      " |      Create and return a new object.  See help(type) for accurate signature.\n",
      " |  \n",
      " |  ----------------------------------------------------------------------\n",
      " |  Data and other attributes defined here:\n",
      " |  \n",
      " |  __hash__ = None\n",
      "\n"
     ]
    }
   ],
   "source": [
    "help(planets)"
   ]
  },
  {
   "cell_type": "markdown",
   "id": "244c3650",
   "metadata": {
    "papermill": {
     "duration": 0.055906,
     "end_time": "2021-11-11T14:28:44.917450",
     "exception": false,
     "start_time": "2021-11-11T14:28:44.861544",
     "status": "completed"
    },
    "tags": []
   },
   "source": [
    "Click the \"output\" button to see the full help page. Lists have lots of methods with weird-looking names like `__eq__` and `__iadd__`. Don't worry too much about these for now. (You'll probably never call such methods directly. But they get called behind the scenes when we use syntax like indexing or comparison operators.) The most interesting methods are toward the bottom of the list (`append`, `clear`, `copy`, etc.)."
   ]
  },
  {
   "cell_type": "markdown",
   "id": "46cbe4cd",
   "metadata": {
    "papermill": {
     "duration": 0.056359,
     "end_time": "2021-11-11T14:28:45.031141",
     "exception": false,
     "start_time": "2021-11-11T14:28:44.974782",
     "status": "completed"
    },
    "tags": []
   },
   "source": [
    "## Tuples\n",
    "\n",
    "Tuples are almost exactly the same as lists. They differ in just two ways.\n",
    "\n",
    "**1:** The syntax for creating them uses parentheses instead of square brackets"
   ]
  },
  {
   "cell_type": "code",
   "execution_count": 34,
   "id": "d9ac67ac",
   "metadata": {
    "execution": {
     "iopub.execute_input": "2021-11-11T14:28:45.145270Z",
     "iopub.status.busy": "2021-11-11T14:28:45.144701Z",
     "iopub.status.idle": "2021-11-11T14:28:45.147395Z",
     "shell.execute_reply": "2021-11-11T14:28:45.147860Z"
    },
    "papermill": {
     "duration": 0.061331,
     "end_time": "2021-11-11T14:28:45.148023",
     "exception": false,
     "start_time": "2021-11-11T14:28:45.086692",
     "status": "completed"
    },
    "tags": []
   },
   "outputs": [],
   "source": [
    "t = (1, 2, 3)"
   ]
  },
  {
   "cell_type": "code",
   "execution_count": 35,
   "id": "923ed173",
   "metadata": {
    "execution": {
     "iopub.execute_input": "2021-11-11T14:28:45.265025Z",
     "iopub.status.busy": "2021-11-11T14:28:45.264377Z",
     "iopub.status.idle": "2021-11-11T14:28:45.268265Z",
     "shell.execute_reply": "2021-11-11T14:28:45.268700Z"
    },
    "papermill": {
     "duration": 0.063696,
     "end_time": "2021-11-11T14:28:45.268859",
     "exception": false,
     "start_time": "2021-11-11T14:28:45.205163",
     "status": "completed"
    },
    "tags": []
   },
   "outputs": [
    {
     "data": {
      "text/plain": [
       "(1, 2, 3)"
      ]
     },
     "execution_count": 35,
     "metadata": {},
     "output_type": "execute_result"
    }
   ],
   "source": [
    "t = 1, 2, 3 # equivalent to above\n",
    "t"
   ]
  },
  {
   "cell_type": "markdown",
   "id": "1887ffc7",
   "metadata": {
    "papermill": {
     "duration": 0.055936,
     "end_time": "2021-11-11T14:28:45.382071",
     "exception": false,
     "start_time": "2021-11-11T14:28:45.326135",
     "status": "completed"
    },
    "tags": []
   },
   "source": [
    "**2:** They cannot be modified (they are *immutable*)."
   ]
  },
  {
   "cell_type": "code",
   "execution_count": 36,
   "id": "995d8980",
   "metadata": {
    "execution": {
     "iopub.execute_input": "2021-11-11T14:28:45.499084Z",
     "iopub.status.busy": "2021-11-11T14:28:45.498450Z",
     "iopub.status.idle": "2021-11-11T14:28:45.510787Z",
     "shell.execute_reply": "2021-11-11T14:28:45.511309Z"
    },
    "papermill": {
     "duration": 0.072933,
     "end_time": "2021-11-11T14:28:45.511475",
     "exception": false,
     "start_time": "2021-11-11T14:28:45.438542",
     "status": "completed"
    },
    "tags": [
     "raises-exception"
    ]
   },
   "outputs": [
    {
     "ename": "TypeError",
     "evalue": "'tuple' object does not support item assignment",
     "output_type": "error",
     "traceback": [
      "\u001b[0;31m---------------------------------------------------------------------------\u001b[0m",
      "\u001b[0;31mTypeError\u001b[0m                                 Traceback (most recent call last)",
      "\u001b[0;32m/tmp/ipykernel_20/816329950.py\u001b[0m in \u001b[0;36m<module>\u001b[0;34m\u001b[0m\n\u001b[0;32m----> 1\u001b[0;31m \u001b[0mt\u001b[0m\u001b[0;34m[\u001b[0m\u001b[0;36m0\u001b[0m\u001b[0;34m]\u001b[0m \u001b[0;34m=\u001b[0m \u001b[0;36m100\u001b[0m\u001b[0;34m\u001b[0m\u001b[0;34m\u001b[0m\u001b[0m\n\u001b[0m",
      "\u001b[0;31mTypeError\u001b[0m: 'tuple' object does not support item assignment"
     ]
    }
   ],
   "source": [
    "t[0] = 100"
   ]
  },
  {
   "cell_type": "markdown",
   "id": "13127850",
   "metadata": {
    "papermill": {
     "duration": 0.056952,
     "end_time": "2021-11-11T14:28:45.626961",
     "exception": false,
     "start_time": "2021-11-11T14:28:45.570009",
     "status": "completed"
    },
    "tags": []
   },
   "source": [
    "Tuples are often used for functions that have multiple return values.\n",
    "\n",
    "For example, the ``as_integer_ratio()`` method of float objects returns a numerator and a denominator in the form of a tuple:"
   ]
  },
  {
   "cell_type": "code",
   "execution_count": 37,
   "id": "aed23dd4",
   "metadata": {
    "execution": {
     "iopub.execute_input": "2021-11-11T14:28:45.744328Z",
     "iopub.status.busy": "2021-11-11T14:28:45.743694Z",
     "iopub.status.idle": "2021-11-11T14:28:45.748391Z",
     "shell.execute_reply": "2021-11-11T14:28:45.748891Z"
    },
    "papermill": {
     "duration": 0.064953,
     "end_time": "2021-11-11T14:28:45.749063",
     "exception": false,
     "start_time": "2021-11-11T14:28:45.684110",
     "status": "completed"
    },
    "tags": []
   },
   "outputs": [
    {
     "data": {
      "text/plain": [
       "(1, 8)"
      ]
     },
     "execution_count": 37,
     "metadata": {},
     "output_type": "execute_result"
    }
   ],
   "source": [
    "x = 0.125\n",
    "x.as_integer_ratio()"
   ]
  },
  {
   "cell_type": "markdown",
   "id": "690a3587",
   "metadata": {
    "papermill": {
     "duration": 0.058699,
     "end_time": "2021-11-11T14:28:45.867771",
     "exception": false,
     "start_time": "2021-11-11T14:28:45.809072",
     "status": "completed"
    },
    "tags": []
   },
   "source": [
    "These multiple return values can be individually assigned as follows:"
   ]
  },
  {
   "cell_type": "code",
   "execution_count": 38,
   "id": "5bae2881",
   "metadata": {
    "execution": {
     "iopub.execute_input": "2021-11-11T14:28:45.987803Z",
     "iopub.status.busy": "2021-11-11T14:28:45.987198Z",
     "iopub.status.idle": "2021-11-11T14:28:45.991408Z",
     "shell.execute_reply": "2021-11-11T14:28:45.991958Z"
    },
    "papermill": {
     "duration": 0.065917,
     "end_time": "2021-11-11T14:28:45.992132",
     "exception": false,
     "start_time": "2021-11-11T14:28:45.926215",
     "status": "completed"
    },
    "tags": []
   },
   "outputs": [
    {
     "name": "stdout",
     "output_type": "stream",
     "text": [
      "0.125\n"
     ]
    }
   ],
   "source": [
    "numerator, denominator = x.as_integer_ratio()\n",
    "print(numerator / denominator)"
   ]
  },
  {
   "cell_type": "markdown",
   "id": "c1f66b4d",
   "metadata": {
    "papermill": {
     "duration": 0.059016,
     "end_time": "2021-11-11T14:28:46.111772",
     "exception": false,
     "start_time": "2021-11-11T14:28:46.052756",
     "status": "completed"
    },
    "tags": []
   },
   "source": [
    "Finally we have some insight into the classic Stupid Python Trick™ for swapping two variables!"
   ]
  },
  {
   "cell_type": "code",
   "execution_count": 39,
   "id": "e17e976a",
   "metadata": {
    "execution": {
     "iopub.execute_input": "2021-11-11T14:28:46.234686Z",
     "iopub.status.busy": "2021-11-11T14:28:46.233967Z",
     "iopub.status.idle": "2021-11-11T14:28:46.236977Z",
     "shell.execute_reply": "2021-11-11T14:28:46.237433Z"
    },
    "papermill": {
     "duration": 0.066889,
     "end_time": "2021-11-11T14:28:46.237581",
     "exception": false,
     "start_time": "2021-11-11T14:28:46.170692",
     "status": "completed"
    },
    "tags": []
   },
   "outputs": [
    {
     "name": "stdout",
     "output_type": "stream",
     "text": [
      "0 1\n"
     ]
    }
   ],
   "source": [
    "a = 1\n",
    "b = 0\n",
    "a, b = b, a\n",
    "print(a, b)"
   ]
  },
  {
   "cell_type": "markdown",
   "id": "f22b4b7e",
   "metadata": {
    "papermill": {
     "duration": 0.059551,
     "end_time": "2021-11-11T14:28:46.356019",
     "exception": false,
     "start_time": "2021-11-11T14:28:46.296468",
     "status": "completed"
    },
    "tags": []
   },
   "source": [
    "# Your Turn\n",
    "\n",
    "You learn best by writing code, not just reading it. So try **[the coding challenge](https://www.kaggle.com/kernels/fork/1275173)** now."
   ]
  },
  {
   "cell_type": "markdown",
   "id": "514804bb",
   "metadata": {
    "papermill": {
     "duration": 0.058271,
     "end_time": "2021-11-11T14:28:46.473099",
     "exception": false,
     "start_time": "2021-11-11T14:28:46.414828",
     "status": "completed"
    },
    "tags": []
   },
   "source": [
    "---\n",
    "\n",
    "\n",
    "\n",
    "\n",
    "*Have questions or comments? Visit the [course discussion forum](https://www.kaggle.com/learn/python/discussion) to chat with other learners.*"
   ]
  }
 ],
 "metadata": {
  "anaconda-cloud": {},
  "kernelspec": {
   "display_name": "Python 3",
   "language": "python",
   "name": "python3"
  },
  "language_info": {
   "codemirror_mode": {
    "name": "ipython",
    "version": 3
   },
   "file_extension": ".py",
   "mimetype": "text/x-python",
   "name": "python",
   "nbconvert_exporter": "python",
   "pygments_lexer": "ipython3",
   "version": "3.7.10"
  },
  "learntools_metadata": {
   "lesson_index": 3,
   "type": "tutorial"
  },
  "papermill": {
   "default_parameters": {},
   "duration": 17.682403,
   "end_time": "2021-11-11T14:28:47.040395",
   "environment_variables": {},
   "exception": null,
   "input_path": "__notebook__.ipynb",
   "output_path": "__notebook__.ipynb",
   "parameters": {},
   "start_time": "2021-11-11T14:28:29.357992",
   "version": "2.3.3"
  }
 },
 "nbformat": 4,
 "nbformat_minor": 5
}
