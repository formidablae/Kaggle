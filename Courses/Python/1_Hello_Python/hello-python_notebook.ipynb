{
 "cells": [
  {
   "cell_type": "markdown",
   "id": "a0e1f16b",
   "metadata": {
    "papermill": {
     "duration": 0.02203,
     "end_time": "2021-11-11T14:28:14.014888",
     "exception": false,
     "start_time": "2021-11-11T14:28:13.992858",
     "status": "completed"
    },
    "tags": []
   },
   "source": [
    "This course covers the key Python skills you’ll need so you can start using Python for data science. \n",
    "\n",
    "We'll start with a brief overview of Python syntax, variable assignment, and arithmetic operators. If you have previous Python experience, you can [skip straight to the hands-on exercise](https://www.kaggle.com/kernels/fork/1275163)."
   ]
  },
  {
   "cell_type": "markdown",
   "id": "e97e20e1",
   "metadata": {
    "papermill": {
     "duration": 0.017526,
     "end_time": "2021-11-11T14:28:14.050875",
     "exception": false,
     "start_time": "2021-11-11T14:28:14.033349",
     "status": "completed"
    },
    "tags": []
   },
   "source": [
    "# Hello, Python!\n",
    "\n",
    "Python was named for the British comedy troupe [Monty Python](https://en.wikipedia.org/wiki/Monty_Python), so we'll make our first Python program a homage to their skit about [Spam](https://en.wikipedia.org/wiki/Spam_(food)).\n",
    "\n",
    "Just for fun, try reading over the code below and predicting what it's going to do when run. (If you have no idea, that's fine!)\n",
    "\n",
    "Then click the \"output\" button to see the results of our program."
   ]
  },
  {
   "cell_type": "code",
   "execution_count": 1,
   "id": "c44a63ae",
   "metadata": {
    "_kg_hide-output": true,
    "execution": {
     "iopub.execute_input": "2021-11-11T14:28:14.095839Z",
     "iopub.status.busy": "2021-11-11T14:28:14.094045Z",
     "iopub.status.idle": "2021-11-11T14:28:14.107312Z",
     "shell.execute_reply": "2021-11-11T14:28:14.106663Z"
    },
    "papermill": {
     "duration": 0.036653,
     "end_time": "2021-11-11T14:28:14.107510",
     "exception": false,
     "start_time": "2021-11-11T14:28:14.070857",
     "status": "completed"
    },
    "tags": []
   },
   "outputs": [
    {
     "name": "stdout",
     "output_type": "stream",
     "text": [
      "0\n",
      "But I don't want ANY spam!\n",
      "Spam Spam Spam Spam \n"
     ]
    }
   ],
   "source": [
    "spam_amount = 0\n",
    "print(spam_amount)\n",
    "\n",
    "# Ordering Spam, egg, Spam, Spam, bacon and Spam (4 more servings of Spam)\n",
    "spam_amount = spam_amount + 4\n",
    "\n",
    "if spam_amount > 0:\n",
    "    print(\"But I don't want ANY spam!\")\n",
    "\n",
    "viking_song = \"Spam \" * spam_amount\n",
    "print(viking_song)"
   ]
  },
  {
   "cell_type": "markdown",
   "id": "6f289bc8",
   "metadata": {
    "papermill": {
     "duration": 0.01927,
     "end_time": "2021-11-11T14:28:14.149546",
     "exception": false,
     "start_time": "2021-11-11T14:28:14.130276",
     "status": "completed"
    },
    "tags": []
   },
   "source": [
    "There's a lot to unpack here! This silly program demonstrates many important aspects of what Python code looks like and how it works. Let's review the code from top to bottom."
   ]
  },
  {
   "cell_type": "code",
   "execution_count": 2,
   "id": "7d6af436",
   "metadata": {
    "collapsed": true,
    "execution": {
     "iopub.execute_input": "2021-11-11T14:28:14.195014Z",
     "iopub.status.busy": "2021-11-11T14:28:14.193901Z",
     "iopub.status.idle": "2021-11-11T14:28:14.196209Z",
     "shell.execute_reply": "2021-11-11T14:28:14.196628Z"
    },
    "papermill": {
     "duration": 0.028364,
     "end_time": "2021-11-11T14:28:14.196808",
     "exception": false,
     "start_time": "2021-11-11T14:28:14.168444",
     "status": "completed"
    },
    "tags": []
   },
   "outputs": [],
   "source": [
    "spam_amount = 0"
   ]
  },
  {
   "cell_type": "markdown",
   "id": "a5f02038",
   "metadata": {
    "papermill": {
     "duration": 0.019836,
     "end_time": "2021-11-11T14:28:14.237876",
     "exception": false,
     "start_time": "2021-11-11T14:28:14.218040",
     "status": "completed"
    },
    "tags": []
   },
   "source": [
    "**Variable assignment:** Here we create a variable called `spam_amount` and assign it the value of 0 using `=`, which is called the assignment operator.\n",
    "\n",
    "> **Note**: If you've programmed in certain other languages (like Java or C++), you might be noticing some things Python *doesn't* require us to do here:  \n",
    "- we don't need to \"declare\" `spam_amount` before assigning to it\n",
    "- we don't need to tell Python what type of value `spam_amount` is going to refer to. In fact, we can even go on to reassign `spam_amount` to refer to a different sort of thing like a string or a boolean."
   ]
  },
  {
   "cell_type": "code",
   "execution_count": 3,
   "id": "bf3dbd66",
   "metadata": {
    "_kg_hide-output": false,
    "collapsed": true,
    "execution": {
     "iopub.execute_input": "2021-11-11T14:28:14.279009Z",
     "iopub.status.busy": "2021-11-11T14:28:14.277807Z",
     "iopub.status.idle": "2021-11-11T14:28:14.284120Z",
     "shell.execute_reply": "2021-11-11T14:28:14.284784Z"
    },
    "papermill": {
     "duration": 0.028918,
     "end_time": "2021-11-11T14:28:14.285067",
     "exception": false,
     "start_time": "2021-11-11T14:28:14.256149",
     "status": "completed"
    },
    "tags": []
   },
   "outputs": [
    {
     "name": "stdout",
     "output_type": "stream",
     "text": [
      "0\n"
     ]
    }
   ],
   "source": [
    "print(spam_amount)"
   ]
  },
  {
   "cell_type": "markdown",
   "id": "0a4a3c96",
   "metadata": {
    "papermill": {
     "duration": 0.018232,
     "end_time": "2021-11-11T14:28:14.322485",
     "exception": false,
     "start_time": "2021-11-11T14:28:14.304253",
     "status": "completed"
    },
    "tags": []
   },
   "source": [
    "**Function calls:**. `print` is a Python function that displays the value passed to it on the screen. We call functions by putting parentheses after their name, and putting the inputs (or *arguments*) to the function in those parentheses."
   ]
  },
  {
   "cell_type": "code",
   "execution_count": 4,
   "id": "f23d1d1b",
   "metadata": {
    "_kg_hide-output": false,
    "collapsed": true,
    "execution": {
     "iopub.execute_input": "2021-11-11T14:28:14.364204Z",
     "iopub.status.busy": "2021-11-11T14:28:14.363188Z",
     "iopub.status.idle": "2021-11-11T14:28:14.367792Z",
     "shell.execute_reply": "2021-11-11T14:28:14.368461Z"
    },
    "papermill": {
     "duration": 0.027607,
     "end_time": "2021-11-11T14:28:14.368692",
     "exception": false,
     "start_time": "2021-11-11T14:28:14.341085",
     "status": "completed"
    },
    "tags": []
   },
   "outputs": [],
   "source": [
    "# Ordering Spam, egg, Spam, Spam, bacon and Spam (4 more servings of Spam)\n",
    "spam_amount = spam_amount + 4"
   ]
  },
  {
   "cell_type": "markdown",
   "id": "d384db9f",
   "metadata": {
    "papermill": {
     "duration": 0.019541,
     "end_time": "2021-11-11T14:28:14.408457",
     "exception": false,
     "start_time": "2021-11-11T14:28:14.388916",
     "status": "completed"
    },
    "tags": []
   },
   "source": [
    "The first line above is a **comment**. In Python, comments begin with the `#` symbol.\n",
    "\n",
    "Next we see an example of reassignment. Reassigning the value of an existing variable looks just the same as creating a variable - it still uses the `=` assignment operator.\n",
    "\n",
    "In this case, the value we're assigning to `spam_amount` involves some simple arithmetic on its previous value. When it encounters this line, Python evaluates the expression on the right-hand-side of the `=` (0 + 4 = 4), and then assigns that value to the variable on the left-hand-side."
   ]
  },
  {
   "cell_type": "code",
   "execution_count": 5,
   "id": "ed3c7378",
   "metadata": {
    "_kg_hide-output": false,
    "collapsed": true,
    "execution": {
     "iopub.execute_input": "2021-11-11T14:28:14.452097Z",
     "iopub.status.busy": "2021-11-11T14:28:14.451097Z",
     "iopub.status.idle": "2021-11-11T14:28:14.457506Z",
     "shell.execute_reply": "2021-11-11T14:28:14.458024Z"
    },
    "papermill": {
     "duration": 0.030053,
     "end_time": "2021-11-11T14:28:14.458211",
     "exception": false,
     "start_time": "2021-11-11T14:28:14.428158",
     "status": "completed"
    },
    "tags": []
   },
   "outputs": [
    {
     "name": "stdout",
     "output_type": "stream",
     "text": [
      "But I don't want ANY spam!\n",
      "Spam Spam Spam\n"
     ]
    }
   ],
   "source": [
    "if spam_amount > 0:\n",
    "    print(\"But I don't want ANY spam!\")\n",
    "\n",
    "viking_song = \"Spam Spam Spam\"\n",
    "print(viking_song)"
   ]
  },
  {
   "cell_type": "markdown",
   "id": "203b8485",
   "metadata": {
    "papermill": {
     "duration": 0.019612,
     "end_time": "2021-11-11T14:28:14.498699",
     "exception": false,
     "start_time": "2021-11-11T14:28:14.479087",
     "status": "completed"
    },
    "tags": []
   },
   "source": [
    "We won't talk much about \"conditionals\" until later, but, even if you've never coded before, you can probably guess what this does. Python is prized for its readability and the simplicity. \n",
    "\n",
    "Note how we indicated which code belongs to the `if`. `\"But I don't want ANY spam!\"` is only supposed to be printed if `spam_amount` is positive. But the later code (like `print(viking_song)`) should be executed no matter what. How do we (and Python) know that?\n",
    "\n",
    "The colon (`:`) at the end of the `if` line indicates that a new **code block** is starting. Subsequent lines which are indented are part of that code block. \n",
    "> **Note**: If you've coded before, you might know that some other languages use `{`curly braces`}` to mark the beginning and end of code blocks. Python's use of meaningful whitespace can be surprising to programmers who are accustomed to other languages, but in practice it can lead to more consistent and readable code than languages that do not enforce indentation of code blocks. \n",
    "\n",
    "The later lines dealing with `viking_song` are not indented with an extra 4 spaces, so they're not a part of the `if`'s code block. We'll see more examples of indented code blocks later when we define functions and using loops.\n",
    "\n",
    "This code snippet is also our first sighting of a **string** in Python:\n",
    "\n",
    "```python\n",
    "\"But I don't want ANY spam!\"\n",
    "```\n",
    "\n",
    "Strings can be marked either by double or single quotation marks. (But because this particular string *contains* a single-quote character, we might confuse Python by trying to surround it with single-quotes, unless we're careful.)"
   ]
  },
  {
   "cell_type": "code",
   "execution_count": 6,
   "id": "dfeaf06a",
   "metadata": {
    "_kg_hide-output": false,
    "collapsed": true,
    "execution": {
     "iopub.execute_input": "2021-11-11T14:28:14.543848Z",
     "iopub.status.busy": "2021-11-11T14:28:14.542885Z",
     "iopub.status.idle": "2021-11-11T14:28:14.549354Z",
     "shell.execute_reply": "2021-11-11T14:28:14.550275Z"
    },
    "papermill": {
     "duration": 0.032568,
     "end_time": "2021-11-11T14:28:14.550552",
     "exception": false,
     "start_time": "2021-11-11T14:28:14.517984",
     "status": "completed"
    },
    "tags": []
   },
   "outputs": [
    {
     "name": "stdout",
     "output_type": "stream",
     "text": [
      "Spam Spam Spam Spam \n"
     ]
    }
   ],
   "source": [
    "viking_song = \"Spam \" * spam_amount\n",
    "print(viking_song)"
   ]
  },
  {
   "cell_type": "markdown",
   "id": "5507c484",
   "metadata": {
    "papermill": {
     "duration": 0.024318,
     "end_time": "2021-11-11T14:28:14.598698",
     "exception": false,
     "start_time": "2021-11-11T14:28:14.574380",
     "status": "completed"
    },
    "tags": []
   },
   "source": [
    "The `*` operator can be used to multiply two numbers (`3 * 3` evaluates to 9), but we can also multiply a string by a number, to get a version that's been repeated that many times. Python offers a number of cheeky little time-saving tricks like this where operators like `*` and `+` have a different meaning depending on what kind of thing they're applied to. (The technical term for this is [operator overloading](https://en.wikipedia.org/wiki/Operator_overloading).)"
   ]
  },
  {
   "cell_type": "markdown",
   "id": "cdefb1e8",
   "metadata": {
    "papermill": {
     "duration": 0.02529,
     "end_time": "2021-11-11T14:28:14.649786",
     "exception": false,
     "start_time": "2021-11-11T14:28:14.624496",
     "status": "completed"
    },
    "tags": []
   },
   "source": [
    "## Numbers and arithmetic in Python\n",
    "\n",
    "We've already seen an example of a variable containing a number above:"
   ]
  },
  {
   "cell_type": "code",
   "execution_count": 7,
   "id": "1a7e6565",
   "metadata": {
    "collapsed": true,
    "execution": {
     "iopub.execute_input": "2021-11-11T14:28:14.692227Z",
     "iopub.status.busy": "2021-11-11T14:28:14.691659Z",
     "iopub.status.idle": "2021-11-11T14:28:14.694989Z",
     "shell.execute_reply": "2021-11-11T14:28:14.695464Z"
    },
    "papermill": {
     "duration": 0.025869,
     "end_time": "2021-11-11T14:28:14.695637",
     "exception": false,
     "start_time": "2021-11-11T14:28:14.669768",
     "status": "completed"
    },
    "tags": []
   },
   "outputs": [],
   "source": [
    "spam_amount = 0"
   ]
  },
  {
   "cell_type": "markdown",
   "id": "d3b12b58",
   "metadata": {
    "papermill": {
     "duration": 0.019111,
     "end_time": "2021-11-11T14:28:14.734177",
     "exception": false,
     "start_time": "2021-11-11T14:28:14.715066",
     "status": "completed"
    },
    "tags": []
   },
   "source": [
    "\"Number\" is a fine informal name for the kind of thing, but if we wanted to be more technical, we could ask Python how it would describe the type of thing that `spam_amount` is:"
   ]
  },
  {
   "cell_type": "code",
   "execution_count": 8,
   "id": "acd68aa1",
   "metadata": {
    "collapsed": true,
    "execution": {
     "iopub.execute_input": "2021-11-11T14:28:14.776731Z",
     "iopub.status.busy": "2021-11-11T14:28:14.776110Z",
     "iopub.status.idle": "2021-11-11T14:28:14.782674Z",
     "shell.execute_reply": "2021-11-11T14:28:14.783209Z"
    },
    "papermill": {
     "duration": 0.029611,
     "end_time": "2021-11-11T14:28:14.783413",
     "exception": false,
     "start_time": "2021-11-11T14:28:14.753802",
     "status": "completed"
    },
    "tags": []
   },
   "outputs": [
    {
     "data": {
      "text/plain": [
       "int"
      ]
     },
     "execution_count": 8,
     "metadata": {},
     "output_type": "execute_result"
    }
   ],
   "source": [
    "type(spam_amount)"
   ]
  },
  {
   "cell_type": "markdown",
   "id": "91e56a5c",
   "metadata": {
    "papermill": {
     "duration": 0.019689,
     "end_time": "2021-11-11T14:28:14.824014",
     "exception": false,
     "start_time": "2021-11-11T14:28:14.804325",
     "status": "completed"
    },
    "tags": []
   },
   "source": [
    "It's an `int` - short for integer. There's another sort of number we commonly encounter in Python:"
   ]
  },
  {
   "cell_type": "code",
   "execution_count": 9,
   "id": "530bb894",
   "metadata": {
    "collapsed": true,
    "execution": {
     "iopub.execute_input": "2021-11-11T14:28:14.872738Z",
     "iopub.status.busy": "2021-11-11T14:28:14.871877Z",
     "iopub.status.idle": "2021-11-11T14:28:14.876106Z",
     "shell.execute_reply": "2021-11-11T14:28:14.876639Z"
    },
    "papermill": {
     "duration": 0.030984,
     "end_time": "2021-11-11T14:28:14.876819",
     "exception": false,
     "start_time": "2021-11-11T14:28:14.845835",
     "status": "completed"
    },
    "tags": []
   },
   "outputs": [
    {
     "data": {
      "text/plain": [
       "float"
      ]
     },
     "execution_count": 9,
     "metadata": {},
     "output_type": "execute_result"
    }
   ],
   "source": [
    "type(19.95)"
   ]
  },
  {
   "cell_type": "markdown",
   "id": "521bd593",
   "metadata": {
    "papermill": {
     "duration": 0.021153,
     "end_time": "2021-11-11T14:28:14.919057",
     "exception": false,
     "start_time": "2021-11-11T14:28:14.897904",
     "status": "completed"
    },
    "tags": []
   },
   "source": [
    "A `float` is a number with a decimal place - very useful for representing things like weights or proportions.\n",
    "\n",
    "`type()` is the second built-in function we've seen (after `print()`), and it's another good one to remember. It's very useful to be able to ask Python \"what kind of thing is this?\". "
   ]
  },
  {
   "cell_type": "markdown",
   "id": "37a25a1e",
   "metadata": {
    "papermill": {
     "duration": 0.01973,
     "end_time": "2021-11-11T14:28:14.958827",
     "exception": false,
     "start_time": "2021-11-11T14:28:14.939097",
     "status": "completed"
    },
    "tags": []
   },
   "source": [
    "A natural thing to want to do with numbers is perform arithmetic. We've seen the `+` operator for addition, and the `*` operator for multiplication. Python also has us covered for the rest of the basic buttons on your calculator:\n",
    "\n",
    "| Operator     | Name           | Description                                            |\n",
    "|--------------|----------------|--------------------------------------------------------|\n",
    "| ``a + b``    | Addition       | Sum of ``a`` and ``b``                                 |\n",
    "| ``a - b``    | Subtraction    | Difference of ``a`` and ``b``                          |\n",
    "| ``a * b``    | Multiplication | Product of ``a`` and ``b``                             |\n",
    "| ``a / b``    | True division  | Quotient of ``a`` and ``b``                            |\n",
    "| ``a // b``   | Floor division | Quotient of ``a`` and ``b``, removing fractional parts |\n",
    "| ``a % b``    | Modulus        | Integer remainder after division of ``a`` by ``b``     |\n",
    "| ``a ** b``   | Exponentiation | ``a`` raised to the power of ``b``                     |\n",
    "| ``-a``       | Negation       | The negative of ``a``                                  |\n",
    "\n",
    "<span style=\"display:none\"></span>\n",
    "\n",
    "One interesting observation here is that, whereas your calculator probably just has one button for division, Python can do two kinds. \"True division\" is basically what your calculator does:"
   ]
  },
  {
   "cell_type": "code",
   "execution_count": 10,
   "id": "f2ff92df",
   "metadata": {
    "collapsed": true,
    "execution": {
     "iopub.execute_input": "2021-11-11T14:28:15.003188Z",
     "iopub.status.busy": "2021-11-11T14:28:15.002513Z",
     "iopub.status.idle": "2021-11-11T14:28:15.006815Z",
     "shell.execute_reply": "2021-11-11T14:28:15.007333Z"
    },
    "papermill": {
     "duration": 0.028434,
     "end_time": "2021-11-11T14:28:15.007503",
     "exception": false,
     "start_time": "2021-11-11T14:28:14.979069",
     "status": "completed"
    },
    "tags": []
   },
   "outputs": [
    {
     "name": "stdout",
     "output_type": "stream",
     "text": [
      "2.5\n",
      "3.0\n"
     ]
    }
   ],
   "source": [
    "print(5 / 2)\n",
    "print(6 / 2)"
   ]
  },
  {
   "cell_type": "markdown",
   "id": "001aed25",
   "metadata": {
    "papermill": {
     "duration": 0.020567,
     "end_time": "2021-11-11T14:28:15.049663",
     "exception": false,
     "start_time": "2021-11-11T14:28:15.029096",
     "status": "completed"
    },
    "tags": []
   },
   "source": [
    "It always gives us a `float`. \n",
    "\n",
    "The `//` operator gives us a result that's rounded down to the next integer."
   ]
  },
  {
   "cell_type": "code",
   "execution_count": 11,
   "id": "b2b2b281",
   "metadata": {
    "collapsed": true,
    "execution": {
     "iopub.execute_input": "2021-11-11T14:28:15.097305Z",
     "iopub.status.busy": "2021-11-11T14:28:15.096349Z",
     "iopub.status.idle": "2021-11-11T14:28:15.099348Z",
     "shell.execute_reply": "2021-11-11T14:28:15.099796Z"
    },
    "papermill": {
     "duration": 0.028568,
     "end_time": "2021-11-11T14:28:15.100020",
     "exception": false,
     "start_time": "2021-11-11T14:28:15.071452",
     "status": "completed"
    },
    "tags": []
   },
   "outputs": [
    {
     "name": "stdout",
     "output_type": "stream",
     "text": [
      "2\n",
      "3\n"
     ]
    }
   ],
   "source": [
    "print(5 // 2)\n",
    "print(6 // 2)"
   ]
  },
  {
   "cell_type": "markdown",
   "id": "10b1e320",
   "metadata": {
    "papermill": {
     "duration": 0.021247,
     "end_time": "2021-11-11T14:28:15.143696",
     "exception": false,
     "start_time": "2021-11-11T14:28:15.122449",
     "status": "completed"
    },
    "tags": []
   },
   "source": [
    "Can you think of where this would be useful? You'll see an example soon in the coding challenges."
   ]
  },
  {
   "cell_type": "markdown",
   "id": "db8acea5",
   "metadata": {
    "papermill": {
     "duration": 0.020558,
     "end_time": "2021-11-11T14:28:15.186788",
     "exception": false,
     "start_time": "2021-11-11T14:28:15.166230",
     "status": "completed"
    },
    "tags": []
   },
   "source": [
    "### Order of operations\n",
    "\n",
    "The arithmetic we learned in primary school has conventions about the order in which operations are evaluated. Some remember these by a mnemonic such as **PEMDAS** - **P**arentheses, **E**xponents, **M**ultiplication/**D**ivision, **A**ddition/**S**ubtraction.\n",
    "\n",
    "Python follows similar rules about which calculations to perform first. They're mostly pretty intuitive."
   ]
  },
  {
   "cell_type": "code",
   "execution_count": 12,
   "id": "9213d610",
   "metadata": {
    "collapsed": true,
    "execution": {
     "iopub.execute_input": "2021-11-11T14:28:15.234945Z",
     "iopub.status.busy": "2021-11-11T14:28:15.234317Z",
     "iopub.status.idle": "2021-11-11T14:28:15.236743Z",
     "shell.execute_reply": "2021-11-11T14:28:15.237209Z"
    },
    "papermill": {
     "duration": 0.028887,
     "end_time": "2021-11-11T14:28:15.237380",
     "exception": false,
     "start_time": "2021-11-11T14:28:15.208493",
     "status": "completed"
    },
    "tags": []
   },
   "outputs": [
    {
     "data": {
      "text/plain": [
       "7"
      ]
     },
     "execution_count": 12,
     "metadata": {},
     "output_type": "execute_result"
    }
   ],
   "source": [
    "8 - 3 + 2"
   ]
  },
  {
   "cell_type": "code",
   "execution_count": 13,
   "id": "0c8df593",
   "metadata": {
    "collapsed": true,
    "execution": {
     "iopub.execute_input": "2021-11-11T14:28:15.284446Z",
     "iopub.status.busy": "2021-11-11T14:28:15.283755Z",
     "iopub.status.idle": "2021-11-11T14:28:15.288703Z",
     "shell.execute_reply": "2021-11-11T14:28:15.289162Z"
    },
    "papermill": {
     "duration": 0.030698,
     "end_time": "2021-11-11T14:28:15.289345",
     "exception": false,
     "start_time": "2021-11-11T14:28:15.258647",
     "status": "completed"
    },
    "tags": []
   },
   "outputs": [
    {
     "data": {
      "text/plain": [
       "5"
      ]
     },
     "execution_count": 13,
     "metadata": {},
     "output_type": "execute_result"
    }
   ],
   "source": [
    "-3 + 4 * 2"
   ]
  },
  {
   "cell_type": "markdown",
   "id": "e5d76ad8",
   "metadata": {
    "papermill": {
     "duration": 0.021733,
     "end_time": "2021-11-11T14:28:15.334146",
     "exception": false,
     "start_time": "2021-11-11T14:28:15.312413",
     "status": "completed"
    },
    "tags": []
   },
   "source": [
    "Sometimes the default order of operations isn't what we want:"
   ]
  },
  {
   "cell_type": "code",
   "execution_count": 14,
   "id": "1e516a2b",
   "metadata": {
    "collapsed": true,
    "execution": {
     "iopub.execute_input": "2021-11-11T14:28:15.380874Z",
     "iopub.status.busy": "2021-11-11T14:28:15.380230Z",
     "iopub.status.idle": "2021-11-11T14:28:15.384889Z",
     "shell.execute_reply": "2021-11-11T14:28:15.385374Z"
    },
    "papermill": {
     "duration": 0.029737,
     "end_time": "2021-11-11T14:28:15.385559",
     "exception": false,
     "start_time": "2021-11-11T14:28:15.355822",
     "status": "completed"
    },
    "tags": []
   },
   "outputs": [
    {
     "name": "stdout",
     "output_type": "stream",
     "text": [
      "Height in meters = 26.9 ?\n"
     ]
    }
   ],
   "source": [
    "hat_height_cm = 25\n",
    "my_height_cm = 190\n",
    "# How tall am I, in meters, when wearing my hat?\n",
    "total_height_meters = hat_height_cm + my_height_cm / 100\n",
    "print(\"Height in meters =\", total_height_meters, \"?\")"
   ]
  },
  {
   "cell_type": "markdown",
   "id": "26083992",
   "metadata": {
    "papermill": {
     "duration": 0.024286,
     "end_time": "2021-11-11T14:28:15.432764",
     "exception": false,
     "start_time": "2021-11-11T14:28:15.408478",
     "status": "completed"
    },
    "tags": []
   },
   "source": [
    "Parentheses are useful here. You can add them to force Python to evaluate sub-expressions in whatever order you want."
   ]
  },
  {
   "cell_type": "code",
   "execution_count": 15,
   "id": "0951db5d",
   "metadata": {
    "collapsed": true,
    "execution": {
     "iopub.execute_input": "2021-11-11T14:28:15.484073Z",
     "iopub.status.busy": "2021-11-11T14:28:15.483373Z",
     "iopub.status.idle": "2021-11-11T14:28:15.487650Z",
     "shell.execute_reply": "2021-11-11T14:28:15.488131Z"
    },
    "papermill": {
     "duration": 0.031765,
     "end_time": "2021-11-11T14:28:15.488321",
     "exception": false,
     "start_time": "2021-11-11T14:28:15.456556",
     "status": "completed"
    },
    "tags": []
   },
   "outputs": [
    {
     "name": "stdout",
     "output_type": "stream",
     "text": [
      "Height in meters = 2.15\n"
     ]
    }
   ],
   "source": [
    "total_height_meters = (hat_height_cm + my_height_cm) / 100\n",
    "print(\"Height in meters =\", total_height_meters)"
   ]
  },
  {
   "cell_type": "markdown",
   "id": "09e5614a",
   "metadata": {
    "papermill": {
     "duration": 0.024436,
     "end_time": "2021-11-11T14:28:15.535626",
     "exception": false,
     "start_time": "2021-11-11T14:28:15.511190",
     "status": "completed"
    },
    "tags": []
   },
   "source": [
    "### Builtin functions for working with numbers\n",
    "\n",
    "`min` and `max` return the minimum and maximum of their arguments, respectively..."
   ]
  },
  {
   "cell_type": "code",
   "execution_count": 16,
   "id": "a83076a3",
   "metadata": {
    "collapsed": true,
    "execution": {
     "iopub.execute_input": "2021-11-11T14:28:15.585036Z",
     "iopub.status.busy": "2021-11-11T14:28:15.584329Z",
     "iopub.status.idle": "2021-11-11T14:28:15.589726Z",
     "shell.execute_reply": "2021-11-11T14:28:15.590355Z"
    },
    "papermill": {
     "duration": 0.031619,
     "end_time": "2021-11-11T14:28:15.590541",
     "exception": false,
     "start_time": "2021-11-11T14:28:15.558922",
     "status": "completed"
    },
    "tags": []
   },
   "outputs": [
    {
     "name": "stdout",
     "output_type": "stream",
     "text": [
      "1\n",
      "3\n"
     ]
    }
   ],
   "source": [
    "print(min(1, 2, 3))\n",
    "print(max(1, 2, 3))"
   ]
  },
  {
   "cell_type": "markdown",
   "id": "ecbd7b7b",
   "metadata": {
    "papermill": {
     "duration": 0.023661,
     "end_time": "2021-11-11T14:28:15.639048",
     "exception": false,
     "start_time": "2021-11-11T14:28:15.615387",
     "status": "completed"
    },
    "tags": []
   },
   "source": [
    "`abs` returns the absolute value of an argument:"
   ]
  },
  {
   "cell_type": "code",
   "execution_count": 17,
   "id": "04a9d77e",
   "metadata": {
    "collapsed": true,
    "execution": {
     "iopub.execute_input": "2021-11-11T14:28:15.691998Z",
     "iopub.status.busy": "2021-11-11T14:28:15.691356Z",
     "iopub.status.idle": "2021-11-11T14:28:15.696438Z",
     "shell.execute_reply": "2021-11-11T14:28:15.696922Z"
    },
    "papermill": {
     "duration": 0.033001,
     "end_time": "2021-11-11T14:28:15.697129",
     "exception": false,
     "start_time": "2021-11-11T14:28:15.664128",
     "status": "completed"
    },
    "tags": []
   },
   "outputs": [
    {
     "name": "stdout",
     "output_type": "stream",
     "text": [
      "32\n",
      "32\n"
     ]
    }
   ],
   "source": [
    "print(abs(32))\n",
    "print(abs(-32))"
   ]
  },
  {
   "cell_type": "markdown",
   "id": "68172d7c",
   "metadata": {
    "papermill": {
     "duration": 0.023756,
     "end_time": "2021-11-11T14:28:15.745891",
     "exception": false,
     "start_time": "2021-11-11T14:28:15.722135",
     "status": "completed"
    },
    "tags": []
   },
   "source": [
    "In addition to being the names of Python's two main numerical types, `int` and `float` can also be called as functions which convert their arguments to the corresponding type:"
   ]
  },
  {
   "cell_type": "code",
   "execution_count": 18,
   "id": "db65e898",
   "metadata": {
    "collapsed": true,
    "execution": {
     "iopub.execute_input": "2021-11-11T14:28:15.799286Z",
     "iopub.status.busy": "2021-11-11T14:28:15.798547Z",
     "iopub.status.idle": "2021-11-11T14:28:15.804730Z",
     "shell.execute_reply": "2021-11-11T14:28:15.805872Z"
    },
    "papermill": {
     "duration": 0.035648,
     "end_time": "2021-11-11T14:28:15.806165",
     "exception": false,
     "start_time": "2021-11-11T14:28:15.770517",
     "status": "completed"
    },
    "tags": []
   },
   "outputs": [
    {
     "name": "stdout",
     "output_type": "stream",
     "text": [
      "10.0\n",
      "3\n",
      "808\n"
     ]
    }
   ],
   "source": [
    "print(float(10))\n",
    "print(int(3.33))\n",
    "# They can even be called on strings!\n",
    "print(int('807') + 1)"
   ]
  },
  {
   "cell_type": "markdown",
   "id": "6f64c97c",
   "metadata": {
    "papermill": {
     "duration": 0.026123,
     "end_time": "2021-11-11T14:28:15.855662",
     "exception": false,
     "start_time": "2021-11-11T14:28:15.829539",
     "status": "completed"
    },
    "tags": []
   },
   "source": [
    "# Your Turn\n",
    "\n",
    "Now is your chance. Try your **[first Python programming exercise](https://www.kaggle.com/kernels/fork/1275163)**!"
   ]
  },
  {
   "cell_type": "markdown",
   "id": "ba9cee75",
   "metadata": {
    "papermill": {
     "duration": 0.024832,
     "end_time": "2021-11-11T14:28:15.904438",
     "exception": false,
     "start_time": "2021-11-11T14:28:15.879606",
     "status": "completed"
    },
    "tags": []
   },
   "source": [
    "---\n",
    "\n",
    "\n",
    "\n",
    "\n",
    "*Have questions or comments? Visit the [course discussion forum](https://www.kaggle.com/learn/python/discussion) to chat with other learners.*"
   ]
  }
 ],
 "metadata": {
  "anaconda-cloud": {},
  "celltoolbar": "Edit Metadata",
  "kernelspec": {
   "display_name": "Python 3",
   "language": "python",
   "name": "python3"
  },
  "language_info": {
   "codemirror_mode": {
    "name": "ipython",
    "version": 3
   },
   "file_extension": ".py",
   "mimetype": "text/x-python",
   "name": "python",
   "nbconvert_exporter": "python",
   "pygments_lexer": "ipython3",
   "version": "3.7.10"
  },
  "learntools_metadata": {
   "lesson_index": 0,
   "type": "tutorial"
  },
  "papermill": {
   "default_parameters": {},
   "duration": 11.277,
   "end_time": "2021-11-11T14:28:16.540139",
   "environment_variables": {},
   "exception": null,
   "input_path": "__notebook__.ipynb",
   "output_path": "__notebook__.ipynb",
   "parameters": {},
   "start_time": "2021-11-11T14:28:05.263139",
   "version": "2.3.3"
  }
 },
 "nbformat": 4,
 "nbformat_minor": 5
}
