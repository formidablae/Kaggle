{
 "cells": [
  {
   "cell_type": "markdown",
   "id": "f403877b",
   "metadata": {
    "papermill": {
     "duration": 0.017961,
     "end_time": "2021-11-11T14:28:39.359618",
     "exception": false,
     "start_time": "2021-11-11T14:28:39.341657",
     "status": "completed"
    },
    "tags": []
   },
   "source": [
    "# Booleans\n",
    "\n",
    "Python has a type of variable called `bool`. It has two possible values: `True` and `False`."
   ]
  },
  {
   "cell_type": "code",
   "execution_count": 1,
   "id": "015922aa",
   "metadata": {
    "collapsed": true,
    "execution": {
     "iopub.execute_input": "2021-11-11T14:28:39.398089Z",
     "iopub.status.busy": "2021-11-11T14:28:39.396309Z",
     "iopub.status.idle": "2021-11-11T14:28:39.409519Z",
     "shell.execute_reply": "2021-11-11T14:28:39.410102Z"
    },
    "papermill": {
     "duration": 0.034564,
     "end_time": "2021-11-11T14:28:39.410414",
     "exception": false,
     "start_time": "2021-11-11T14:28:39.375850",
     "status": "completed"
    },
    "tags": []
   },
   "outputs": [
    {
     "name": "stdout",
     "output_type": "stream",
     "text": [
      "True\n",
      "<class 'bool'>\n"
     ]
    }
   ],
   "source": [
    "x = True\n",
    "print(x)\n",
    "print(type(x))"
   ]
  },
  {
   "cell_type": "markdown",
   "id": "13d6cff4",
   "metadata": {
    "papermill": {
     "duration": 0.016206,
     "end_time": "2021-11-11T14:28:39.445838",
     "exception": false,
     "start_time": "2021-11-11T14:28:39.429632",
     "status": "completed"
    },
    "tags": []
   },
   "source": [
    "Rather than putting `True` or `False` directly in our code, we usually get boolean values from **boolean operators**.  These are operators that answer yes/no questions. We'll go through some of these operators below. "
   ]
  },
  {
   "cell_type": "markdown",
   "id": "f55dfea7",
   "metadata": {
    "papermill": {
     "duration": 0.018173,
     "end_time": "2021-11-11T14:28:39.480462",
     "exception": false,
     "start_time": "2021-11-11T14:28:39.462289",
     "status": "completed"
    },
    "tags": []
   },
   "source": [
    "## Comparison Operations\n",
    "\n",
    "| Operation     | Description                       || Operation     | Description                          |\n",
    "|---------------|-----------------------------------||---------------|--------------------------------------|\n",
    "| ``a == b``    | ``a`` equal to ``b``              || ``a != b``    | ``a`` not equal to ``b``             |\n",
    "| ``a < b``     | ``a`` less than ``b``             || ``a > b``     | ``a`` greater than ``b``             |\n",
    "| ``a <= b``    | ``a`` less than or equal to ``b`` || ``a >= b``    | ``a`` greater than or equal to ``b`` |\n",
    "\n"
   ]
  },
  {
   "cell_type": "code",
   "execution_count": 2,
   "id": "51ebee97",
   "metadata": {
    "collapsed": true,
    "execution": {
     "iopub.execute_input": "2021-11-11T14:28:39.521849Z",
     "iopub.status.busy": "2021-11-11T14:28:39.521104Z",
     "iopub.status.idle": "2021-11-11T14:28:39.529589Z",
     "shell.execute_reply": "2021-11-11T14:28:39.528811Z"
    },
    "papermill": {
     "duration": 0.031723,
     "end_time": "2021-11-11T14:28:39.529867",
     "exception": false,
     "start_time": "2021-11-11T14:28:39.498144",
     "status": "completed"
    },
    "tags": []
   },
   "outputs": [
    {
     "name": "stdout",
     "output_type": "stream",
     "text": [
      "Can a 19-year-old run for president? False\n",
      "Can a 45-year-old run for president? True\n"
     ]
    }
   ],
   "source": [
    "def can_run_for_president(age):\n",
    "    \"\"\"Can someone of the given age run for president in the US?\"\"\"\n",
    "    # The US Constitution says you must be at least 35 years old\n",
    "    return age >= 35\n",
    "\n",
    "print(\"Can a 19-year-old run for president?\", can_run_for_president(19))\n",
    "print(\"Can a 45-year-old run for president?\", can_run_for_president(45))"
   ]
  },
  {
   "cell_type": "markdown",
   "id": "6e8c2d4b",
   "metadata": {
    "papermill": {
     "duration": 0.018333,
     "end_time": "2021-11-11T14:28:39.565698",
     "exception": false,
     "start_time": "2021-11-11T14:28:39.547365",
     "status": "completed"
    },
    "tags": []
   },
   "source": [
    "Comparisons frequently work like you'd hope"
   ]
  },
  {
   "cell_type": "code",
   "execution_count": 3,
   "id": "5d6f08cd",
   "metadata": {
    "collapsed": true,
    "execution": {
     "iopub.execute_input": "2021-11-11T14:28:39.608007Z",
     "iopub.status.busy": "2021-11-11T14:28:39.607277Z",
     "iopub.status.idle": "2021-11-11T14:28:39.614024Z",
     "shell.execute_reply": "2021-11-11T14:28:39.614690Z"
    },
    "papermill": {
     "duration": 0.030386,
     "end_time": "2021-11-11T14:28:39.614884",
     "exception": false,
     "start_time": "2021-11-11T14:28:39.584498",
     "status": "completed"
    },
    "tags": []
   },
   "outputs": [
    {
     "data": {
      "text/plain": [
       "True"
      ]
     },
     "execution_count": 3,
     "metadata": {},
     "output_type": "execute_result"
    }
   ],
   "source": [
    "3.0 == 3"
   ]
  },
  {
   "cell_type": "markdown",
   "id": "90ba9122",
   "metadata": {
    "papermill": {
     "duration": 0.019404,
     "end_time": "2021-11-11T14:28:39.653246",
     "exception": false,
     "start_time": "2021-11-11T14:28:39.633842",
     "status": "completed"
    },
    "tags": []
   },
   "source": [
    "But sometimes they can be tricky"
   ]
  },
  {
   "cell_type": "code",
   "execution_count": 4,
   "id": "871e21c8",
   "metadata": {
    "collapsed": true,
    "execution": {
     "iopub.execute_input": "2021-11-11T14:28:39.698830Z",
     "iopub.status.busy": "2021-11-11T14:28:39.697927Z",
     "iopub.status.idle": "2021-11-11T14:28:39.701426Z",
     "shell.execute_reply": "2021-11-11T14:28:39.701908Z"
    },
    "papermill": {
     "duration": 0.029193,
     "end_time": "2021-11-11T14:28:39.702110",
     "exception": false,
     "start_time": "2021-11-11T14:28:39.672917",
     "status": "completed"
    },
    "tags": []
   },
   "outputs": [
    {
     "data": {
      "text/plain": [
       "False"
      ]
     },
     "execution_count": 4,
     "metadata": {},
     "output_type": "execute_result"
    }
   ],
   "source": [
    "'3' == 3"
   ]
  },
  {
   "cell_type": "markdown",
   "id": "0a9451b9",
   "metadata": {
    "papermill": {
     "duration": 0.019225,
     "end_time": "2021-11-11T14:28:39.740117",
     "exception": false,
     "start_time": "2021-11-11T14:28:39.720892",
     "status": "completed"
    },
    "tags": []
   },
   "source": [
    "Comparison operators can be combined with the arithmetic operators we've already seen to express a virtually limitless range of mathematical tests. For example, we can check if a number is odd by checking that the modulus with 2 returns 1:"
   ]
  },
  {
   "cell_type": "code",
   "execution_count": 5,
   "id": "902ee2db",
   "metadata": {
    "collapsed": true,
    "execution": {
     "iopub.execute_input": "2021-11-11T14:28:39.783969Z",
     "iopub.status.busy": "2021-11-11T14:28:39.783232Z",
     "iopub.status.idle": "2021-11-11T14:28:39.786873Z",
     "shell.execute_reply": "2021-11-11T14:28:39.787603Z"
    },
    "papermill": {
     "duration": 0.028948,
     "end_time": "2021-11-11T14:28:39.787781",
     "exception": false,
     "start_time": "2021-11-11T14:28:39.758833",
     "status": "completed"
    },
    "tags": []
   },
   "outputs": [
    {
     "name": "stdout",
     "output_type": "stream",
     "text": [
      "Is 100 odd? False\n",
      "Is -1 odd? True\n"
     ]
    }
   ],
   "source": [
    "def is_odd(n):\n",
    "    return (n % 2) == 1\n",
    "\n",
    "print(\"Is 100 odd?\", is_odd(100))\n",
    "print(\"Is -1 odd?\", is_odd(-1))"
   ]
  },
  {
   "cell_type": "markdown",
   "id": "024a37e2",
   "metadata": {
    "papermill": {
     "duration": 0.018157,
     "end_time": "2021-11-11T14:28:39.824517",
     "exception": false,
     "start_time": "2021-11-11T14:28:39.806360",
     "status": "completed"
    },
    "tags": []
   },
   "source": [
    "Remember to use `==` instead of `=` when making comparisons. If you write `n == 2` you are asking about the value of n. When you write `n = 2` you are changing the value of n."
   ]
  },
  {
   "cell_type": "markdown",
   "id": "f8292f3a",
   "metadata": {
    "papermill": {
     "duration": 0.017996,
     "end_time": "2021-11-11T14:28:39.860867",
     "exception": false,
     "start_time": "2021-11-11T14:28:39.842871",
     "status": "completed"
    },
    "tags": []
   },
   "source": [
    "## Combining Boolean Values\n",
    "You can combine boolean values using the standard concepts of \"and\", \"or\", and \"not\". In fact, the words to do this are: ``and``, ``or``, and ``not``.\n",
    "\n",
    "With these, we can make our `can_run_for_president` function more accurate."
   ]
  },
  {
   "cell_type": "code",
   "execution_count": 6,
   "id": "752930ff",
   "metadata": {
    "collapsed": true,
    "execution": {
     "iopub.execute_input": "2021-11-11T14:28:39.902282Z",
     "iopub.status.busy": "2021-11-11T14:28:39.901276Z",
     "iopub.status.idle": "2021-11-11T14:28:39.907974Z",
     "shell.execute_reply": "2021-11-11T14:28:39.908609Z"
    },
    "papermill": {
     "duration": 0.028855,
     "end_time": "2021-11-11T14:28:39.908780",
     "exception": false,
     "start_time": "2021-11-11T14:28:39.879925",
     "status": "completed"
    },
    "tags": []
   },
   "outputs": [
    {
     "name": "stdout",
     "output_type": "stream",
     "text": [
      "False\n",
      "False\n",
      "True\n"
     ]
    }
   ],
   "source": [
    "def can_run_for_president(age, is_natural_born_citizen):\n",
    "    \"\"\"Can someone of the given age and citizenship status run for president in the US?\"\"\"\n",
    "    # The US Constitution says you must be a natural born citizen *and* at least 35 years old\n",
    "    return is_natural_born_citizen and (age >= 35)\n",
    "\n",
    "print(can_run_for_president(19, True))\n",
    "print(can_run_for_president(55, False))\n",
    "print(can_run_for_president(55, True))"
   ]
  },
  {
   "cell_type": "markdown",
   "id": "33795478",
   "metadata": {
    "papermill": {
     "duration": 0.018483,
     "end_time": "2021-11-11T14:28:39.946135",
     "exception": false,
     "start_time": "2021-11-11T14:28:39.927652",
     "status": "completed"
    },
    "tags": []
   },
   "source": [
    "Quick, can you guess the value of this expression?"
   ]
  },
  {
   "cell_type": "code",
   "execution_count": 7,
   "id": "eeb292c1",
   "metadata": {
    "_kg_hide-output": true,
    "collapsed": true,
    "execution": {
     "iopub.execute_input": "2021-11-11T14:28:39.987687Z",
     "iopub.status.busy": "2021-11-11T14:28:39.986642Z",
     "iopub.status.idle": "2021-11-11T14:28:39.992033Z",
     "shell.execute_reply": "2021-11-11T14:28:39.992697Z"
    },
    "papermill": {
     "duration": 0.02792,
     "end_time": "2021-11-11T14:28:39.992873",
     "exception": false,
     "start_time": "2021-11-11T14:28:39.964953",
     "status": "completed"
    },
    "tags": []
   },
   "outputs": [
    {
     "data": {
      "text/plain": [
       "True"
      ]
     },
     "execution_count": 7,
     "metadata": {},
     "output_type": "execute_result"
    }
   ],
   "source": [
    "True or True and False"
   ]
  },
  {
   "cell_type": "markdown",
   "id": "029c41dc",
   "metadata": {
    "papermill": {
     "duration": 0.018884,
     "end_time": "2021-11-11T14:28:40.030799",
     "exception": false,
     "start_time": "2021-11-11T14:28:40.011915",
     "status": "completed"
    },
    "tags": []
   },
   "source": [
    "(Click the \"output\" button to see the answer)\n",
    "\n",
    "To answer this, you'd need to figure out the order of operations. \n",
    "\n",
    "For example, `and` is evaluated before `or`. That's why the first expression above is `True`. If we evaluated it from left to right, we would have calculated `True or True` first (which is `True`), and then taken the `and` of that result with `False`, giving a final value of `False`.\n",
    "\n",
    "You could try to [memorize the order of precedence](https://docs.python.org/3/reference/expressions.html#operator-precedence), but a safer bet is to just use liberal parentheses. Not only does this help prevent bugs, it makes your intentions clearer to anyone who reads your code. \n",
    "\n",
    "For example, consider the following expression:\n",
    "\n",
    "```python\n",
    "prepared_for_weather = have_umbrella or rain_level < 5 and have_hood or not rain_level > 0 and is_workday\n",
    "```\n",
    "\n",
    "I'm trying to say that I'm safe from today's weather....\n",
    "- if I have an umbrella...\n",
    "- or if the rain isn't too heavy and I have a hood...\n",
    "- otherwise, I'm still fine unless it's raining *and* it's a workday\n",
    "\n",
    "But not only is my Python code hard to read, it has a bug. We can address both problems by adding some parentheses:\n",
    "\n",
    "```python\n",
    "prepared_for_weather = have_umbrella or (rain_level < 5 and have_hood) or not (rain_level > 0 and is_workday)\n",
    "```\n",
    "\n",
    "You can add even more parentheses if you think it helps readability:\n",
    "\n",
    "```python\n",
    "prepared_for_weather = have_umbrella or ((rain_level < 5) and have_hood) or (not (rain_level > 0 and is_workday))\n",
    "```\n",
    "\n",
    "We can also split it over multiple lines to emphasize the 3-part structure described above:\n",
    "\n",
    "```python\n",
    "prepared_for_weather = (\n",
    "    have_umbrella \n",
    "    or ((rain_level < 5) and have_hood) \n",
    "    or (not (rain_level > 0 and is_workday))\n",
    ")\n",
    "```"
   ]
  },
  {
   "cell_type": "markdown",
   "id": "fee3db64",
   "metadata": {
    "papermill": {
     "duration": 0.019087,
     "end_time": "2021-11-11T14:28:40.069106",
     "exception": false,
     "start_time": "2021-11-11T14:28:40.050019",
     "status": "completed"
    },
    "tags": []
   },
   "source": [
    "# Conditionals\n",
    "\n",
    "Booleans are most useful when combined with *conditional statements*, using the keywords ``if``, ``elif``, and ``else``.\n",
    "\n",
    "Conditional statements, often referred to as *if-then* statements, let you control what pieces of code are run based on the value of some Boolean condition.\n",
    "Here's an example:"
   ]
  },
  {
   "cell_type": "code",
   "execution_count": 8,
   "id": "b0a02140",
   "metadata": {
    "collapsed": true,
    "execution": {
     "iopub.execute_input": "2021-11-11T14:28:40.112083Z",
     "iopub.status.busy": "2021-11-11T14:28:40.111021Z",
     "iopub.status.idle": "2021-11-11T14:28:40.118225Z",
     "shell.execute_reply": "2021-11-11T14:28:40.118741Z"
    },
    "papermill": {
     "duration": 0.030513,
     "end_time": "2021-11-11T14:28:40.118911",
     "exception": false,
     "start_time": "2021-11-11T14:28:40.088398",
     "status": "completed"
    },
    "tags": []
   },
   "outputs": [
    {
     "name": "stdout",
     "output_type": "stream",
     "text": [
      "0 is zero\n",
      "-15 is negative\n"
     ]
    }
   ],
   "source": [
    "def inspect(x):\n",
    "    if x == 0:\n",
    "        print(x, \"is zero\")\n",
    "    elif x > 0:\n",
    "        print(x, \"is positive\")\n",
    "    elif x < 0:\n",
    "        print(x, \"is negative\")\n",
    "    else:\n",
    "        print(x, \"is unlike anything I've ever seen...\")\n",
    "\n",
    "inspect(0)\n",
    "inspect(-15)"
   ]
  },
  {
   "cell_type": "markdown",
   "id": "ea380386",
   "metadata": {
    "papermill": {
     "duration": 0.019644,
     "end_time": "2021-11-11T14:28:40.159132",
     "exception": false,
     "start_time": "2021-11-11T14:28:40.139488",
     "status": "completed"
    },
    "tags": []
   },
   "source": [
    "The ``if`` and ``else`` keywords are often used in other languages; its more unique keyword is ``elif``, a contraction of \"else if\".\n",
    "In these conditional clauses, ``elif`` and ``else`` blocks are optional; additionally, you can include as many ``elif`` statements as you would like.\n",
    "\n",
    "Note especially the use of colons (``:``) and whitespace to denote separate blocks of code. This is similar to what happens when we define a function - the function header ends with `:`, and the following line is indented with 4 spaces. All subsequent indented lines belong to the body of the function, until we encounter an unindented line, ending the function definition."
   ]
  },
  {
   "cell_type": "code",
   "execution_count": 9,
   "id": "00a18fc9",
   "metadata": {
    "collapsed": true,
    "execution": {
     "iopub.execute_input": "2021-11-11T14:28:40.203301Z",
     "iopub.status.busy": "2021-11-11T14:28:40.202591Z",
     "iopub.status.idle": "2021-11-11T14:28:40.209350Z",
     "shell.execute_reply": "2021-11-11T14:28:40.208727Z"
    },
    "papermill": {
     "duration": 0.02998,
     "end_time": "2021-11-11T14:28:40.209497",
     "exception": false,
     "start_time": "2021-11-11T14:28:40.179517",
     "status": "completed"
    },
    "tags": []
   },
   "outputs": [
    {
     "name": "stdout",
     "output_type": "stream",
     "text": [
      "Only printed when x is positive; x = 1\n",
      "Also only printed when x is positive; x = 1\n",
      "Always printed, regardless of x's value; x = 1\n",
      "Always printed, regardless of x's value; x = 0\n"
     ]
    }
   ],
   "source": [
    "def f(x):\n",
    "    if x > 0:\n",
    "        print(\"Only printed when x is positive; x =\", x)\n",
    "        print(\"Also only printed when x is positive; x =\", x)\n",
    "    print(\"Always printed, regardless of x's value; x =\", x)\n",
    "\n",
    "f(1)\n",
    "f(0)"
   ]
  },
  {
   "cell_type": "markdown",
   "id": "f2b7ddda",
   "metadata": {
    "papermill": {
     "duration": 0.020228,
     "end_time": "2021-11-11T14:28:40.250985",
     "exception": false,
     "start_time": "2021-11-11T14:28:40.230757",
     "status": "completed"
    },
    "tags": []
   },
   "source": [
    "## Boolean conversion\n",
    "\n",
    "We've seen `int()`, which turns things into ints, and `float()`, which turns things into floats, so you might not be surprised to hear that Python has a `bool()` function which turns things into bools."
   ]
  },
  {
   "cell_type": "code",
   "execution_count": 10,
   "id": "b25668a5",
   "metadata": {
    "collapsed": true,
    "execution": {
     "iopub.execute_input": "2021-11-11T14:28:40.298347Z",
     "iopub.status.busy": "2021-11-11T14:28:40.297334Z",
     "iopub.status.idle": "2021-11-11T14:28:40.301816Z",
     "shell.execute_reply": "2021-11-11T14:28:40.301248Z"
    },
    "papermill": {
     "duration": 0.029647,
     "end_time": "2021-11-11T14:28:40.301977",
     "exception": false,
     "start_time": "2021-11-11T14:28:40.272330",
     "status": "completed"
    },
    "tags": []
   },
   "outputs": [
    {
     "name": "stdout",
     "output_type": "stream",
     "text": [
      "True\n",
      "False\n",
      "True\n",
      "False\n"
     ]
    }
   ],
   "source": [
    "print(bool(1)) # all numbers are treated as true, except 0\n",
    "print(bool(0))\n",
    "print(bool(\"asf\")) # all strings are treated as true, except the empty string \"\"\n",
    "print(bool(\"\"))\n",
    "# Generally empty sequences (strings, lists, and other types we've yet to see like lists and tuples)\n",
    "# are \"falsey\" and the rest are \"truthy\""
   ]
  },
  {
   "cell_type": "markdown",
   "id": "ae0f2111",
   "metadata": {
    "papermill": {
     "duration": 0.020316,
     "end_time": "2021-11-11T14:28:40.343100",
     "exception": false,
     "start_time": "2021-11-11T14:28:40.322784",
     "status": "completed"
    },
    "tags": []
   },
   "source": [
    "We can use non-boolean objects in `if` conditions and other places where a boolean would be expected. Python will implicitly treat them as their corresponding boolean value:"
   ]
  },
  {
   "cell_type": "code",
   "execution_count": 11,
   "id": "ced1ed7b",
   "metadata": {
    "collapsed": true,
    "execution": {
     "iopub.execute_input": "2021-11-11T14:28:40.389049Z",
     "iopub.status.busy": "2021-11-11T14:28:40.386979Z",
     "iopub.status.idle": "2021-11-11T14:28:40.392751Z",
     "shell.execute_reply": "2021-11-11T14:28:40.392215Z"
    },
    "papermill": {
     "duration": 0.029268,
     "end_time": "2021-11-11T14:28:40.392906",
     "exception": false,
     "start_time": "2021-11-11T14:28:40.363638",
     "status": "completed"
    },
    "tags": []
   },
   "outputs": [
    {
     "name": "stdout",
     "output_type": "stream",
     "text": [
      "spam\n"
     ]
    }
   ],
   "source": [
    "if 0:\n",
    "    print(0)\n",
    "elif \"spam\":\n",
    "    print(\"spam\")"
   ]
  },
  {
   "cell_type": "markdown",
   "id": "4b1b186a",
   "metadata": {
    "papermill": {
     "duration": 0.020639,
     "end_time": "2021-11-11T14:28:40.434730",
     "exception": false,
     "start_time": "2021-11-11T14:28:40.414091",
     "status": "completed"
    },
    "tags": []
   },
   "source": [
    "# Your Turn\n",
    "\n",
    "You probably don't realize how much you have learned so far. Go try the **[hands-on coding problems](https://www.kaggle.com/kernels/fork/1275165)**, and you'll be pleasantly surprised about how much you can do."
   ]
  },
  {
   "cell_type": "markdown",
   "id": "7782da17",
   "metadata": {
    "papermill": {
     "duration": 0.020571,
     "end_time": "2021-11-11T14:28:40.476689",
     "exception": false,
     "start_time": "2021-11-11T14:28:40.456118",
     "status": "completed"
    },
    "tags": []
   },
   "source": [
    "---\n",
    "\n",
    "\n",
    "\n",
    "\n",
    "*Have questions or comments? Visit the [course discussion forum](https://www.kaggle.com/learn/python/discussion) to chat with other learners.*"
   ]
  }
 ],
 "metadata": {
  "kernelspec": {
   "display_name": "Python 3",
   "language": "python",
   "name": "python3"
  },
  "language_info": {
   "codemirror_mode": {
    "name": "ipython",
    "version": 3
   },
   "file_extension": ".py",
   "mimetype": "text/x-python",
   "name": "python",
   "nbconvert_exporter": "python",
   "pygments_lexer": "ipython3",
   "version": "3.7.10"
  },
  "learntools_metadata": {
   "lesson_index": 2,
   "type": "tutorial"
  },
  "papermill": {
   "default_parameters": {},
   "duration": 11.084471,
   "end_time": "2021-11-11T14:28:41.107465",
   "environment_variables": {},
   "exception": null,
   "input_path": "__notebook__.ipynb",
   "output_path": "__notebook__.ipynb",
   "parameters": {},
   "start_time": "2021-11-11T14:28:30.022994",
   "version": "2.3.3"
  }
 },
 "nbformat": 4,
 "nbformat_minor": 5
}
